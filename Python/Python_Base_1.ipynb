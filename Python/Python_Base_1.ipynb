{
 "cells": [
  {
   "cell_type": "code",
   "execution_count": 1,
   "id": "41cf676d",
   "metadata": {},
   "outputs": [
    {
     "name": "stdout",
     "output_type": "stream",
     "text": [
      "2\n"
     ]
    }
   ],
   "source": [
    "# Like 'HELLO WORD' but with logic\n",
    "\n",
    "print(1+1)"
   ]
  },
  {
   "cell_type": "markdown",
   "id": "f319e10d",
   "metadata": {},
   "source": [
    "## Tipos de datos (Datatype)\n",
    "\n",
    "[Guia Rapida](https://www.w3schools.com/python/python_datatypes.asp)\n",
    "\n",
    "![img](./assets/img/img1.png)"
   ]
  },
  {
   "cell_type": "code",
   "execution_count": 2,
   "id": "1f63debd",
   "metadata": {},
   "outputs": [
    {
     "name": "stdout",
     "output_type": "stream",
     "text": [
      "<class 'int'>\n",
      "<class 'dict'>\n"
     ]
    }
   ],
   "source": [
    "# Integer\n",
    "x = 5\n",
    "print(type(x)) # int\n",
    "# Dictionary\n",
    "x = { \"Name\": \"Robert\" }\n",
    "print(type(x)) # dict"
   ]
  },
  {
   "cell_type": "markdown",
   "id": "20d99e54",
   "metadata": {},
   "source": [
    "# Ciclo FOR (FOR Loop)"
   ]
  },
  {
   "cell_type": "code",
   "execution_count": 3,
   "id": "22a36039",
   "metadata": {},
   "outputs": [
    {
     "name": "stdout",
     "output_type": "stream",
     "text": [
      "0\n",
      "1\n",
      "2\n",
      "3\n",
      "4\n",
      "5\n"
     ]
    }
   ],
   "source": [
    "for x in range(6):\n",
    "    print(x)"
   ]
  },
  {
   "cell_type": "code",
   "execution_count": 4,
   "id": "15dc6e77",
   "metadata": {},
   "outputs": [
    {
     "name": "stdout",
     "output_type": "stream",
     "text": [
      "0\n",
      "1\n",
      "2\n",
      "3\n",
      "4\n",
      "5\n",
      "Finally finished!\n"
     ]
    }
   ],
   "source": [
    "for x in range(6):\n",
    "  print(x)\n",
    "else:\n",
    "  print(\"Finally finished!\")"
   ]
  },
  {
   "cell_type": "markdown",
   "id": "01a900e8",
   "metadata": {},
   "source": [
    "# String Format\n",
    "\n",
    "`'' % ()` format : usefull but a little verbose\n",
    "`f''` format : usefull but a little problematic"
   ]
  },
  {
   "cell_type": "code",
   "execution_count": 5,
   "id": "16efb2e1",
   "metadata": {},
   "outputs": [
    {
     "name": "stdout",
     "output_type": "stream",
     "text": [
      "I am 21 years old\n",
      "I am 21 years old\n",
      "I'm 21 years old\n",
      "I'm 21 years old\n",
      "I'm 21 years old\n",
      "I'm 22 years old\n",
      "I am 22522.22 years old\n",
      "I am 31 years old\n",
      "I am 21 years old and I'm an adult \n",
      "Test: 1  \n",
      "Test: maybe  \n"
     ]
    }
   ],
   "source": [
    "print('I am 21 years old') # Single Quote\n",
    "print(\"I am 21 years old\") # Double Quote\n",
    "print('I\\'m 21 years old') # Single Quote - and \\' to add the quote as a character\n",
    "print(\"I'm 21 years old\") # Double Quoute - it can read the single quote as a character without problem\n",
    "\n",
    "print('I\\'m %s years old' % (21)) \n",
    "print(\"I'm %s years old\" % (22))\n",
    "\n",
    "\n",
    "print(f'I am { round(300+500*2000/45, 2) } years old')\n",
    "print(f'I am %s %s %s' % (31, 'years', \"old\"))\n",
    "\n",
    "\n",
    "# With conditions\n",
    "age = 21\n",
    "print(f'I am {age} years old and I\\'m %s ' % (\"a minor\" if age < 18 else ('an adult' if age > 18 else 'rare' )))\n",
    "\n",
    "\n",
    "# (FalseOption, TrueOption)[condition]\n",
    "print(f'Test: {(1, 2)[False]}  ')\n",
    "print(f'Test: { ({True: \"yes\", False: \"no\", None: \"maybe\"}[None]) }  ')\n",
    "\n"
   ]
  },
  {
   "cell_type": "markdown",
   "id": "c6e14762",
   "metadata": {},
   "source": [
    "## Números Pares (Even Numbers)\n",
    "\n",
    "Aquellos que son divisibles entre `2`"
   ]
  },
  {
   "cell_type": "code",
   "execution_count": 6,
   "id": "90a40930",
   "metadata": {},
   "outputs": [
    {
     "name": "stdout",
     "output_type": "stream",
     "text": [
      "0\n",
      "2\n",
      "4\n",
      "6\n",
      "8\n",
      "10\n",
      "12\n",
      "14\n",
      "16\n",
      "18\n",
      "20\n",
      "22\n",
      "24\n",
      "26\n",
      "28\n",
      "30\n",
      "32\n",
      "34\n",
      "36\n",
      "38\n",
      "40\n",
      "42\n",
      "44\n",
      "46\n",
      "48\n",
      "50\n",
      "52\n",
      "54\n",
      "56\n",
      "58\n",
      "60\n",
      "62\n",
      "64\n",
      "66\n",
      "68\n",
      "70\n",
      "72\n",
      "74\n",
      "76\n",
      "78\n",
      "80\n",
      "82\n",
      "84\n",
      "86\n",
      "88\n",
      "90\n",
      "92\n",
      "94\n",
      "96\n",
      "98\n",
      "100\n",
      "finished!\n"
     ]
    }
   ],
   "source": [
    "for x in range(101):\n",
    "  if (x % 2 == 0):\n",
    "    print(x)\n",
    "else:\n",
    "  print(\"finished!\")"
   ]
  },
  {
   "cell_type": "markdown",
   "id": "a25c3c6d",
   "metadata": {},
   "source": [
    "## Números Impares (Odd Numbers)\n",
    "\n",
    "Aquellos que NO son divisibles entre `2`"
   ]
  },
  {
   "cell_type": "code",
   "execution_count": 7,
   "id": "b39c1035",
   "metadata": {},
   "outputs": [
    {
     "name": "stdout",
     "output_type": "stream",
     "text": [
      "1\n",
      "3\n",
      "5\n",
      "7\n",
      "9\n",
      "11\n",
      "13\n",
      "15\n",
      "17\n",
      "19\n",
      "21\n",
      "23\n",
      "25\n",
      "27\n",
      "29\n",
      "31\n",
      "33\n",
      "35\n",
      "37\n",
      "39\n",
      "41\n",
      "43\n",
      "45\n",
      "47\n",
      "49\n",
      "51\n",
      "53\n",
      "55\n",
      "57\n",
      "59\n",
      "61\n",
      "63\n",
      "65\n",
      "67\n",
      "69\n",
      "71\n",
      "73\n",
      "75\n",
      "77\n",
      "79\n",
      "81\n",
      "83\n",
      "85\n",
      "87\n",
      "89\n",
      "91\n",
      "93\n",
      "95\n",
      "97\n",
      "99\n",
      "finished!\n"
     ]
    }
   ],
   "source": [
    "for x in range(101):\n",
    "  if (x % 2 != 0):\n",
    "    print(x)\n",
    "else:\n",
    "  print(\"finished!\")"
   ]
  },
  {
   "cell_type": "markdown",
   "id": "07866e12",
   "metadata": {},
   "source": [
    "# Funciones (functions)"
   ]
  },
  {
   "cell_type": "code",
   "execution_count": 8,
   "id": "3c590f12",
   "metadata": {},
   "outputs": [
    {
     "name": "stdout",
     "output_type": "stream",
     "text": [
      "my parameter: Hi, I'm calling\n",
      "my parameter: 2\n"
     ]
    }
   ],
   "source": [
    "def myfunction(param):\n",
    "    print(f'my parameter: {param}')\n",
    "    \n",
    "myfunction('Hi, I\\'m calling')\n",
    "myfunction(1+1)"
   ]
  },
  {
   "cell_type": "markdown",
   "id": "a4231608",
   "metadata": {},
   "source": [
    "## Números Primos (Prime Number)\n",
    "\n",
    "Aquellos números X que son divisibles entre si mismos y `1` ( regla: `X > 1` )\n",
    "\n"
   ]
  },
  {
   "cell_type": "code",
   "execution_count": 9,
   "id": "e11c948a",
   "metadata": {},
   "outputs": [
    {
     "name": "stdout",
     "output_type": "stream",
     "text": [
      "NUMBERS LIST BETWEEN 1 and 30 SHOWING WHICH IS PRIME \n",
      "\n",
      " #1 : It's prime \n",
      " #2 : It's prime \n",
      " #3 : It's prime \n",
      " #4 : It isn't prime \n",
      " #5 : It's prime \n",
      " #6 : It isn't prime \n",
      " #7 : It's prime \n",
      " #8 : It isn't prime \n",
      " #9 : It isn't prime \n",
      " #10 : It isn't prime \n",
      " #11 : It's prime \n",
      " #12 : It isn't prime \n",
      " #13 : It's prime \n",
      " #14 : It isn't prime \n",
      " #15 : It isn't prime \n",
      " #16 : It isn't prime \n",
      " #17 : It's prime \n",
      " #18 : It isn't prime \n",
      " #19 : It's prime \n",
      " #20 : It isn't prime \n",
      " #21 : It isn't prime \n",
      " #22 : It isn't prime \n",
      " #23 : It's prime \n",
      " #24 : It isn't prime \n",
      " #25 : It isn't prime \n",
      " #26 : It isn't prime \n",
      " #27 : It isn't prime \n",
      " #28 : It isn't prime \n",
      " #29 : It's prime \n",
      " #30 : It isn't prime \n",
      "\n",
      "LIST WITH FIRST 10 PRIME NUMBERS \n",
      "\n",
      "#1: 1\n",
      "#2: 2\n",
      "#3: 3\n",
      "#4: 5\n",
      "#5: 7\n",
      "#6: 11\n",
      "#7: 13\n",
      "#8: 17\n",
      "#9: 19\n",
      "#10: 23\n"
     ]
    }
   ],
   "source": [
    "\n",
    "\n",
    "def is_prime(number):\n",
    "    # this will be the counter for each time `number` was divided with remainder/mod = 0\n",
    "    mod_zero_counter = 0\n",
    "    #\n",
    "    if (number == 1):\n",
    "        return True\n",
    "    #\n",
    "    for x in range(1, number + 1):        \n",
    "        if ( number % x == 0 ):\n",
    "            mod_zero_counter += 1  \n",
    "    return mod_zero_counter == 2\n",
    "\n",
    "\n",
    "    \n",
    "'''\n",
    " Números primos entre 1 y X:\n",
    "'''\n",
    "\n",
    "\n",
    "\n",
    "# which number is number is prime between 1 and 30\n",
    "limit = 30\n",
    "range_numbers = range(1, limit + 1)\n",
    "\n",
    "# title\n",
    "print(f'NUMBERS LIST BETWEEN 1 and {limit} SHOWING WHICH IS PRIME \\n')\n",
    "\n",
    "for index_1 in range_numbers:\n",
    "    print(f' #{index_1} : %s prime ' % (\"It\\'s\" if is_prime(index_1) else \"It isn't\"))\n",
    "\n",
    "\n",
    "    \n",
    "'''\n",
    " X  Cantidad de numeros primos:\n",
    "'''\n",
    "\n",
    "\n",
    "# size of prime numbers list\n",
    "limit_list = 10\n",
    "\n",
    "# title\n",
    "print(f'\\nLIST WITH FIRST {limit_list} PRIME NUMBERS \\n')\n",
    "\n",
    "i_counter = 1\n",
    "prime_counter = 0;\n",
    "while prime_counter < limit_list:\n",
    "    if (is_prime(i_counter)):\n",
    "        print(f'#{prime_counter+1}: {i_counter}')\n",
    "        prime_counter += 1  \n",
    "    i_counter += 1\n",
    "\n",
    "#for index in ():"
   ]
  },
  {
   "cell_type": "markdown",
   "id": "87bad3b6",
   "metadata": {},
   "source": [
    "# POO (OOP)\n",
    "\n",
    "## Clases (Class) "
   ]
  },
  {
   "cell_type": "code",
   "execution_count": 10,
   "id": "7bf7ff83",
   "metadata": {},
   "outputs": [
    {
     "name": "stdout",
     "output_type": "stream",
     "text": [
      " name: fido \n",
      " kind: canine\n"
     ]
    }
   ],
   "source": [
    "class Dog:\n",
    "\n",
    "    kind = 'canine'         # class variable shared by all instances\n",
    "    tricks = []             # mistaken use of a class variable\n",
    "\n",
    "    def __init__(self, name):\n",
    "        self.name = name    # instance variable unique to each instance\n",
    "        self.tricks = []    # creates a new empty list for each dog\n",
    "\n",
    "    def add_trick(self, trick):\n",
    "        self.tricks.append(trick)\n",
    "        \n",
    "myDog1 = Dog('fido')\n",
    "\n",
    "print(f' name: {myDog1.name} \\n kind: {myDog1.kind}')"
   ]
  },
  {
   "attachments": {},
   "cell_type": "markdown",
   "id": "2ab37c28",
   "metadata": {},
   "source": [
    "# Fibonacci"
   ]
  },
  {
   "cell_type": "code",
   "execution_count": 11,
   "id": "280d1409",
   "metadata": {},
   "outputs": [
    {
     "name": "stdout",
     "output_type": "stream",
     "text": [
      "Collecting ColabTurtlePlus\n",
      "  Downloading ColabTurtlePlus-2.0.1-py3-none-any.whl (31 kB)\n",
      "Installing collected packages: ColabTurtlePlus\n",
      "Successfully installed ColabTurtlePlus-2.0.1\n"
     ]
    }
   ],
   "source": [
    "!pip3 install ColabTurtlePlus"
   ]
  },
  {
   "cell_type": "code",
   "execution_count": 12,
   "id": "b231a532",
   "metadata": {},
   "outputs": [
    {
     "name": "stdout",
     "output_type": "stream",
     "text": [
      "Put clearscreen() as the first line in a cell (after the import command) to re-run turtle commands in the cell\n"
     ]
    },
    {
     "data": {
      "text/html": [
       "\n",
       "      <svg width=\"800\" height=\"500\">  \n",
       "        <rect width=\"100%\" height=\"100%\" style=\"fill:white;stroke:;stroke-width:1\"/>\n",
       "        \n",
       "        \n",
       "        <line x1=\"550.0\" y1=\"330.0\" x2=\"550.0\" y2=\"342.0\" stroke-linecap=\"round\" style=\"stroke:black;stroke-width:2\" /><line x1=\"550.0\" y1=\"342.0\" x2=\"538.0\" y2=\"342.0\" stroke-linecap=\"round\" style=\"stroke:black;stroke-width:2\" /><line x1=\"538.0\" y1=\"342.0\" x2=\"538.0\" y2=\"330.0\" stroke-linecap=\"round\" style=\"stroke:black;stroke-width:2\" /><line x1=\"538.0\" y1=\"330.0\" x2=\"550.0\" y2=\"330.0\" stroke-linecap=\"round\" style=\"stroke:black;stroke-width:2\" /><line x1=\"550.0\" y1=\"330.0\" x2=\"550.0\" y2=\"342.0\" stroke-linecap=\"round\" style=\"stroke:black;stroke-width:2\" /><line x1=\"550.0\" y1=\"342.0\" x2=\"538.0\" y2=\"342.0\" stroke-linecap=\"round\" style=\"stroke:black;stroke-width:2\" /><line x1=\"538.0\" y1=\"342.0\" x2=\"550.0\" y2=\"342.0\" stroke-linecap=\"round\" style=\"stroke:black;stroke-width:2\" /><line x1=\"550.0\" y1=\"342.0\" x2=\"550.0\" y2=\"354.0\" stroke-linecap=\"round\" style=\"stroke:black;stroke-width:2\" /><line x1=\"550.0\" y1=\"354.0\" x2=\"538.0\" y2=\"354.0\" stroke-linecap=\"round\" style=\"stroke:black;stroke-width:2\" /><line x1=\"538.0\" y1=\"354.0\" x2=\"538.0\" y2=\"342.0\" stroke-linecap=\"round\" style=\"stroke:black;stroke-width:2\" /><line x1=\"538.0\" y1=\"342.0\" x2=\"550.0\" y2=\"342.0\" stroke-linecap=\"round\" style=\"stroke:black;stroke-width:2\" /><line x1=\"550.0\" y1=\"342.0\" x2=\"550.0\" y2=\"354.0\" stroke-linecap=\"round\" style=\"stroke:black;stroke-width:2\" /><line x1=\"550.0\" y1=\"354.0\" x2=\"550.0\" y2=\"330.0\" stroke-linecap=\"round\" style=\"stroke:black;stroke-width:2\" /><line x1=\"550.0\" y1=\"330.0\" x2=\"574.0\" y2=\"330.0\" stroke-linecap=\"round\" style=\"stroke:black;stroke-width:2\" /><line x1=\"574.0\" y1=\"330.0\" x2=\"574.0\" y2=\"354.0\" stroke-linecap=\"round\" style=\"stroke:black;stroke-width:2\" /><line x1=\"574.0\" y1=\"354.0\" x2=\"550.0\" y2=\"354.0\" stroke-linecap=\"round\" style=\"stroke:black;stroke-width:2\" /><line x1=\"550.0\" y1=\"354.0\" x2=\"550.0\" y2=\"330.0\" stroke-linecap=\"round\" style=\"stroke:black;stroke-width:2\" /><line x1=\"550.0\" y1=\"330.0\" x2=\"574.0\" y2=\"330.0\" stroke-linecap=\"round\" style=\"stroke:black;stroke-width:2\" /><line x1=\"574.0\" y1=\"330.0\" x2=\"538.0\" y2=\"330.0\" stroke-linecap=\"round\" style=\"stroke:black;stroke-width:2\" /><line x1=\"538.0\" y1=\"330.0\" x2=\"538.0\" y2=\"294.0\" stroke-linecap=\"round\" style=\"stroke:black;stroke-width:2\" /><line x1=\"538.0\" y1=\"294.0\" x2=\"574.0\" y2=\"294.0\" stroke-linecap=\"round\" style=\"stroke:black;stroke-width:2\" /><line x1=\"574.0\" y1=\"294.0\" x2=\"574.0\" y2=\"330.0\" stroke-linecap=\"round\" style=\"stroke:black;stroke-width:2\" /><line x1=\"574.0\" y1=\"330.0\" x2=\"538.0\" y2=\"330.0\" stroke-linecap=\"round\" style=\"stroke:black;stroke-width:2\" /><line x1=\"538.0\" y1=\"330.0\" x2=\"538.0\" y2=\"294.0\" stroke-linecap=\"round\" style=\"stroke:black;stroke-width:2\" /><line x1=\"538.0\" y1=\"294.0\" x2=\"538.0\" y2=\"354.0\" stroke-linecap=\"round\" style=\"stroke:black;stroke-width:2\" /><line x1=\"538.0\" y1=\"354.0\" x2=\"478.0\" y2=\"354.0\" stroke-linecap=\"round\" style=\"stroke:black;stroke-width:2\" /><line x1=\"478.0\" y1=\"354.0\" x2=\"478.0\" y2=\"294.0\" stroke-linecap=\"round\" style=\"stroke:black;stroke-width:2\" /><line x1=\"478.0\" y1=\"294.0\" x2=\"538.0\" y2=\"294.0\" stroke-linecap=\"round\" style=\"stroke:black;stroke-width:2\" /><line x1=\"538.0\" y1=\"294.0\" x2=\"538.0\" y2=\"354.0\" stroke-linecap=\"round\" style=\"stroke:black;stroke-width:2\" /><line x1=\"538.0\" y1=\"354.0\" x2=\"478.0\" y2=\"354.0\" stroke-linecap=\"round\" style=\"stroke:black;stroke-width:2\" /><line x1=\"478.0\" y1=\"354.0\" x2=\"574.0\" y2=\"354.0\" stroke-linecap=\"round\" style=\"stroke:black;stroke-width:2\" /><line x1=\"574.0\" y1=\"354.0\" x2=\"574.0\" y2=\"450.0\" stroke-linecap=\"round\" style=\"stroke:black;stroke-width:2\" /><line x1=\"574.0\" y1=\"450.0\" x2=\"478.0\" y2=\"450.0\" stroke-linecap=\"round\" style=\"stroke:black;stroke-width:2\" /><line x1=\"478.0\" y1=\"450.0\" x2=\"478.0\" y2=\"354.0\" stroke-linecap=\"round\" style=\"stroke:black;stroke-width:2\" /><line x1=\"478.0\" y1=\"354.0\" x2=\"574.0\" y2=\"354.0\" stroke-linecap=\"round\" style=\"stroke:black;stroke-width:2\" /><line x1=\"574.0\" y1=\"354.0\" x2=\"574.0\" y2=\"450.0\" stroke-linecap=\"round\" style=\"stroke:black;stroke-width:2\" /><line x1=\"574.0\" y1=\"450.0\" x2=\"574.0\" y2=\"294.0\" stroke-linecap=\"round\" style=\"stroke:black;stroke-width:2\" /><line x1=\"574.0\" y1=\"294.0\" x2=\"730.0\" y2=\"294.0\" stroke-linecap=\"round\" style=\"stroke:black;stroke-width:2\" /><line x1=\"730.0\" y1=\"294.0\" x2=\"730.0\" y2=\"450.0\" stroke-linecap=\"round\" style=\"stroke:black;stroke-width:2\" /><line x1=\"730.0\" y1=\"450.0\" x2=\"574.0\" y2=\"450.0\" stroke-linecap=\"round\" style=\"stroke:black;stroke-width:2\" /><line x1=\"574.0\" y1=\"450.0\" x2=\"574.0\" y2=\"294.0\" stroke-linecap=\"round\" style=\"stroke:black;stroke-width:2\" /><line x1=\"574.0\" y1=\"294.0\" x2=\"730.0\" y2=\"294.0\" stroke-linecap=\"round\" style=\"stroke:black;stroke-width:2\" /><line x1=\"730.0\" y1=\"294.0\" x2=\"478.0\" y2=\"294.0\" stroke-linecap=\"round\" style=\"stroke:black;stroke-width:2\" /><line x1=\"478.0\" y1=\"294.0\" x2=\"478.0\" y2=\"42.0\" stroke-linecap=\"round\" style=\"stroke:black;stroke-width:2\" /><line x1=\"478.0\" y1=\"42.0\" x2=\"730.0\" y2=\"42.0\" stroke-linecap=\"round\" style=\"stroke:black;stroke-width:2\" /><line x1=\"730.0\" y1=\"42.0\" x2=\"730.0\" y2=\"294.0\" stroke-linecap=\"round\" style=\"stroke:black;stroke-width:2\" /><line x1=\"730.0\" y1=\"294.0\" x2=\"478.0\" y2=\"294.0\" stroke-linecap=\"round\" style=\"stroke:black;stroke-width:2\" /><line x1=\"478.0\" y1=\"294.0\" x2=\"478.0\" y2=\"42.0\" stroke-linecap=\"round\" style=\"stroke:black;stroke-width:2\" /><line x1=\"478.0\" y1=\"42.0\" x2=\"478.0\" y2=\"450.0\" stroke-linecap=\"round\" style=\"stroke:black;stroke-width:2\" /><line x1=\"478.0\" y1=\"450.0\" x2=\"70.0\" y2=\"450.0\" stroke-linecap=\"round\" style=\"stroke:black;stroke-width:2\" /><line x1=\"70.0\" y1=\"450.0\" x2=\"70.0\" y2=\"42.0\" stroke-linecap=\"round\" style=\"stroke:black;stroke-width:2\" /><line x1=\"70.0\" y1=\"42.0\" x2=\"478.0\" y2=\"42.0\" stroke-linecap=\"round\" style=\"stroke:black;stroke-width:2\" /><line x1=\"478.0\" y1=\"42.0\" x2=\"478.0\" y2=\"450.0\" stroke-linecap=\"round\" style=\"stroke:black;stroke-width:2\" /><line x1=\"478.0\" y1=\"450.0\" x2=\"70.0\" y2=\"450.0\" stroke-linecap=\"round\" style=\"stroke:black;stroke-width:2\" /><line x1=\"550.0\" y1=\"330.0\" x2=\"546.277\" y2=\"330.59\" stroke-linecap=\"round\" style=\"stroke:black;stroke-width:2\" /><line x1=\"546.277\" y1=\"330.59\" x2=\"542.918\" y2=\"332.302\" stroke-linecap=\"round\" style=\"stroke:black;stroke-width:2\" /><line x1=\"542.918\" y1=\"332.302\" x2=\"540.252\" y2=\"334.968\" stroke-linecap=\"round\" style=\"stroke:black;stroke-width:2\" /><line x1=\"540.252\" y1=\"334.968\" x2=\"538.54\" y2=\"338.327\" stroke-linecap=\"round\" style=\"stroke:black;stroke-width:2\" /><line x1=\"538.54\" y1=\"338.327\" x2=\"537.95\" y2=\"342.05\" stroke-linecap=\"round\" style=\"stroke:black;stroke-width:2\" /><line x1=\"537.95\" y1=\"342.05\" x2=\"538.54\" y2=\"345.773\" stroke-linecap=\"round\" style=\"stroke:black;stroke-width:2\" /><line x1=\"538.54\" y1=\"345.773\" x2=\"540.252\" y2=\"349.132\" stroke-linecap=\"round\" style=\"stroke:black;stroke-width:2\" /><line x1=\"540.252\" y1=\"349.132\" x2=\"542.918\" y2=\"351.798\" stroke-linecap=\"round\" style=\"stroke:black;stroke-width:2\" /><line x1=\"542.918\" y1=\"351.798\" x2=\"546.277\" y2=\"353.51\" stroke-linecap=\"round\" style=\"stroke:black;stroke-width:2\" /><line x1=\"546.277\" y1=\"353.51\" x2=\"550.0\" y2=\"354.1\" stroke-linecap=\"round\" style=\"stroke:black;stroke-width:2\" /><line x1=\"550.0\" y1=\"354.1\" x2=\"553.758\" y2=\"353.804\" stroke-linecap=\"round\" style=\"stroke:black;stroke-width:2\" /><line x1=\"553.758\" y1=\"353.804\" x2=\"557.424\" y2=\"352.924\" stroke-linecap=\"round\" style=\"stroke:black;stroke-width:2\" /><line x1=\"557.424\" y1=\"352.924\" x2=\"560.907\" y2=\"351.481\" stroke-linecap=\"round\" style=\"stroke:black;stroke-width:2\" /><line x1=\"560.907\" y1=\"351.481\" x2=\"564.121\" y2=\"349.511\" stroke-linecap=\"round\" style=\"stroke:black;stroke-width:2\" /><line x1=\"564.121\" y1=\"349.511\" x2=\"566.988\" y2=\"347.063\" stroke-linecap=\"round\" style=\"stroke:black;stroke-width:2\" /><line x1=\"566.988\" y1=\"347.063\" x2=\"569.436\" y2=\"344.196\" stroke-linecap=\"round\" style=\"stroke:black;stroke-width:2\" /><line x1=\"569.436\" y1=\"344.196\" x2=\"571.406\" y2=\"340.982\" stroke-linecap=\"round\" style=\"stroke:black;stroke-width:2\" /><line x1=\"571.406\" y1=\"340.982\" x2=\"572.849\" y2=\"337.499\" stroke-linecap=\"round\" style=\"stroke:black;stroke-width:2\" /><line x1=\"572.849\" y1=\"337.499\" x2=\"573.729\" y2=\"333.833\" stroke-linecap=\"round\" style=\"stroke:black;stroke-width:2\" /><line x1=\"573.729\" y1=\"333.833\" x2=\"574.025\" y2=\"330.075\" stroke-linecap=\"round\" style=\"stroke:black;stroke-width:2\" /><line x1=\"574.025\" y1=\"330.075\" x2=\"573.828\" y2=\"326.31\" stroke-linecap=\"round\" style=\"stroke:black;stroke-width:2\" /><line x1=\"573.828\" y1=\"326.31\" x2=\"573.238\" y2=\"322.587\" stroke-linecap=\"round\" style=\"stroke:black;stroke-width:2\" /><line x1=\"573.238\" y1=\"322.587\" x2=\"572.262\" y2=\"318.946\" stroke-linecap=\"round\" style=\"stroke:black;stroke-width:2\" /><line x1=\"572.262\" y1=\"318.946\" x2=\"570.911\" y2=\"315.426\" stroke-linecap=\"round\" style=\"stroke:black;stroke-width:2\" /><line x1=\"570.911\" y1=\"315.426\" x2=\"569.199\" y2=\"312.067\" stroke-linecap=\"round\" style=\"stroke:black;stroke-width:2\" /><line x1=\"569.199\" y1=\"312.067\" x2=\"567.146\" y2=\"308.905\" stroke-linecap=\"round\" style=\"stroke:black;stroke-width:2\" /><line x1=\"567.146\" y1=\"308.905\" x2=\"564.774\" y2=\"305.975\" stroke-linecap=\"round\" style=\"stroke:black;stroke-width:2\" /><line x1=\"564.774\" y1=\"305.975\" x2=\"562.108\" y2=\"303.309\" stroke-linecap=\"round\" style=\"stroke:black;stroke-width:2\" /><line x1=\"562.108\" y1=\"303.309\" x2=\"559.178\" y2=\"300.937\" stroke-linecap=\"round\" style=\"stroke:black;stroke-width:2\" /><line x1=\"559.178\" y1=\"300.937\" x2=\"556.016\" y2=\"298.884\" stroke-linecap=\"round\" style=\"stroke:black;stroke-width:2\" /><line x1=\"556.016\" y1=\"298.884\" x2=\"552.657\" y2=\"297.172\" stroke-linecap=\"round\" style=\"stroke:black;stroke-width:2\" /><line x1=\"552.657\" y1=\"297.172\" x2=\"549.137\" y2=\"295.821\" stroke-linecap=\"round\" style=\"stroke:black;stroke-width:2\" /><line x1=\"549.137\" y1=\"295.821\" x2=\"545.496\" y2=\"294.845\" stroke-linecap=\"round\" style=\"stroke:black;stroke-width:2\" /><line x1=\"545.496\" y1=\"294.845\" x2=\"541.773\" y2=\"294.255\" stroke-linecap=\"round\" style=\"stroke:black;stroke-width:2\" /><line x1=\"541.773\" y1=\"294.255\" x2=\"538.008\" y2=\"294.058\" stroke-linecap=\"round\" style=\"stroke:black;stroke-width:2\" /><line x1=\"538.008\" y1=\"294.058\" x2=\"534.083\" y2=\"294.186\" stroke-linecap=\"round\" style=\"stroke:black;stroke-width:2\" /><line x1=\"534.083\" y1=\"294.186\" x2=\"530.175\" y2=\"294.571\" stroke-linecap=\"round\" style=\"stroke:black;stroke-width:2\" /><line x1=\"530.175\" y1=\"294.571\" x2=\"526.3\" y2=\"295.211\" stroke-linecap=\"round\" style=\"stroke:black;stroke-width:2\" /><line x1=\"526.3\" y1=\"295.211\" x2=\"522.476\" y2=\"296.103\" stroke-linecap=\"round\" style=\"stroke:black;stroke-width:2\" /><line x1=\"522.476\" y1=\"296.103\" x2=\"518.718\" y2=\"297.243\" stroke-linecap=\"round\" style=\"stroke:black;stroke-width:2\" /><line x1=\"518.718\" y1=\"297.243\" x2=\"515.043\" y2=\"298.626\" stroke-linecap=\"round\" style=\"stroke:black;stroke-width:2\" /><line x1=\"515.043\" y1=\"298.626\" x2=\"511.466\" y2=\"300.247\" stroke-linecap=\"round\" style=\"stroke:black;stroke-width:2\" /><line x1=\"511.466\" y1=\"300.247\" x2=\"508.003\" y2=\"302.098\" stroke-linecap=\"round\" style=\"stroke:black;stroke-width:2\" /><line x1=\"508.003\" y1=\"302.098\" x2=\"504.668\" y2=\"304.172\" stroke-linecap=\"round\" style=\"stroke:black;stroke-width:2\" /><line x1=\"504.668\" y1=\"304.172\" x2=\"501.476\" y2=\"306.459\" stroke-linecap=\"round\" style=\"stroke:black;stroke-width:2\" /><line x1=\"501.476\" y1=\"306.459\" x2=\"498.44\" y2=\"308.95\" stroke-linecap=\"round\" style=\"stroke:black;stroke-width:2\" /><line x1=\"498.44\" y1=\"308.95\" x2=\"495.574\" y2=\"311.634\" stroke-linecap=\"round\" style=\"stroke:black;stroke-width:2\" /><line x1=\"495.574\" y1=\"311.634\" x2=\"492.89\" y2=\"314.5\" stroke-linecap=\"round\" style=\"stroke:black;stroke-width:2\" /><line x1=\"492.89\" y1=\"314.5\" x2=\"490.399\" y2=\"317.536\" stroke-linecap=\"round\" style=\"stroke:black;stroke-width:2\" /><line x1=\"490.399\" y1=\"317.536\" x2=\"488.112\" y2=\"320.728\" stroke-linecap=\"round\" style=\"stroke:black;stroke-width:2\" /><line x1=\"488.112\" y1=\"320.728\" x2=\"486.038\" y2=\"324.063\" stroke-linecap=\"round\" style=\"stroke:black;stroke-width:2\" /><line x1=\"486.038\" y1=\"324.063\" x2=\"484.187\" y2=\"327.526\" stroke-linecap=\"round\" style=\"stroke:black;stroke-width:2\" /><line x1=\"484.187\" y1=\"327.526\" x2=\"482.566\" y2=\"331.103\" stroke-linecap=\"round\" style=\"stroke:black;stroke-width:2\" /><line x1=\"482.566\" y1=\"331.103\" x2=\"481.183\" y2=\"334.778\" stroke-linecap=\"round\" style=\"stroke:black;stroke-width:2\" /><line x1=\"481.183\" y1=\"334.778\" x2=\"480.043\" y2=\"338.536\" stroke-linecap=\"round\" style=\"stroke:black;stroke-width:2\" /><line x1=\"480.043\" y1=\"338.536\" x2=\"479.151\" y2=\"342.36\" stroke-linecap=\"round\" style=\"stroke:black;stroke-width:2\" /><line x1=\"479.151\" y1=\"342.36\" x2=\"478.511\" y2=\"346.235\" stroke-linecap=\"round\" style=\"stroke:black;stroke-width:2\" /><line x1=\"478.511\" y1=\"346.235\" x2=\"478.126\" y2=\"350.143\" stroke-linecap=\"round\" style=\"stroke:black;stroke-width:2\" /><line x1=\"478.126\" y1=\"350.143\" x2=\"477.998\" y2=\"354.068\" stroke-linecap=\"round\" style=\"stroke:black;stroke-width:2\" /><line x1=\"477.998\" y1=\"354.068\" x2=\"478.08\" y2=\"358.035\" stroke-linecap=\"round\" style=\"stroke:black;stroke-width:2\" /><line x1=\"478.08\" y1=\"358.035\" x2=\"478.326\" y2=\"361.996\" stroke-linecap=\"round\" style=\"stroke:black;stroke-width:2\" /><line x1=\"478.326\" y1=\"361.996\" x2=\"478.735\" y2=\"365.943\" stroke-linecap=\"round\" style=\"stroke:black;stroke-width:2\" /><line x1=\"478.735\" y1=\"365.943\" x2=\"479.307\" y2=\"369.87\" stroke-linecap=\"round\" style=\"stroke:black;stroke-width:2\" /><line x1=\"479.307\" y1=\"369.87\" x2=\"480.041\" y2=\"373.77\" stroke-linecap=\"round\" style=\"stroke:black;stroke-width:2\" /><line x1=\"480.041\" y1=\"373.77\" x2=\"480.935\" y2=\"377.636\" stroke-linecap=\"round\" style=\"stroke:black;stroke-width:2\" /><line x1=\"480.935\" y1=\"377.636\" x2=\"481.988\" y2=\"381.462\" stroke-linecap=\"round\" style=\"stroke:black;stroke-width:2\" /><line x1=\"481.988\" y1=\"381.462\" x2=\"483.199\" y2=\"385.241\" stroke-linecap=\"round\" style=\"stroke:black;stroke-width:2\" /><line x1=\"483.199\" y1=\"385.241\" x2=\"484.565\" y2=\"388.967\" stroke-linecap=\"round\" style=\"stroke:black;stroke-width:2\" /><line x1=\"484.565\" y1=\"388.967\" x2=\"486.084\" y2=\"392.633\" stroke-linecap=\"round\" style=\"stroke:black;stroke-width:2\" /><line x1=\"486.084\" y1=\"392.633\" x2=\"487.753\" y2=\"396.233\" stroke-linecap=\"round\" style=\"stroke:black;stroke-width:2\" /><line x1=\"487.753\" y1=\"396.233\" x2=\"489.569\" y2=\"399.761\" stroke-linecap=\"round\" style=\"stroke:black;stroke-width:2\" /><line x1=\"489.569\" y1=\"399.761\" x2=\"491.529\" y2=\"403.211\" stroke-linecap=\"round\" style=\"stroke:black;stroke-width:2\" /><line x1=\"491.529\" y1=\"403.211\" x2=\"493.63\" y2=\"406.577\" stroke-linecap=\"round\" style=\"stroke:black;stroke-width:2\" /><line x1=\"493.63\" y1=\"406.577\" x2=\"495.869\" y2=\"409.854\" stroke-linecap=\"round\" style=\"stroke:black;stroke-width:2\" /><line x1=\"495.869\" y1=\"409.854\" x2=\"498.241\" y2=\"413.035\" stroke-linecap=\"round\" style=\"stroke:black;stroke-width:2\" /><line x1=\"498.241\" y1=\"413.035\" x2=\"500.743\" y2=\"416.116\" stroke-linecap=\"round\" style=\"stroke:black;stroke-width:2\" /><line x1=\"500.743\" y1=\"416.116\" x2=\"503.37\" y2=\"419.091\" stroke-linecap=\"round\" style=\"stroke:black;stroke-width:2\" /><line x1=\"503.37\" y1=\"419.091\" x2=\"506.117\" y2=\"421.954\" stroke-linecap=\"round\" style=\"stroke:black;stroke-width:2\" /><line x1=\"506.117\" y1=\"421.954\" x2=\"508.98\" y2=\"424.701\" stroke-linecap=\"round\" style=\"stroke:black;stroke-width:2\" /><line x1=\"508.98\" y1=\"424.701\" x2=\"511.955\" y2=\"427.328\" stroke-linecap=\"round\" style=\"stroke:black;stroke-width:2\" /><line x1=\"511.955\" y1=\"427.328\" x2=\"515.036\" y2=\"429.83\" stroke-linecap=\"round\" style=\"stroke:black;stroke-width:2\" /><line x1=\"515.036\" y1=\"429.83\" x2=\"518.217\" y2=\"432.202\" stroke-linecap=\"round\" style=\"stroke:black;stroke-width:2\" /><line x1=\"518.217\" y1=\"432.202\" x2=\"521.494\" y2=\"434.441\" stroke-linecap=\"round\" style=\"stroke:black;stroke-width:2\" /><line x1=\"521.494\" y1=\"434.441\" x2=\"524.86\" y2=\"436.542\" stroke-linecap=\"round\" style=\"stroke:black;stroke-width:2\" /><line x1=\"524.86\" y1=\"436.542\" x2=\"528.31\" y2=\"438.502\" stroke-linecap=\"round\" style=\"stroke:black;stroke-width:2\" /><line x1=\"528.31\" y1=\"438.502\" x2=\"531.838\" y2=\"440.318\" stroke-linecap=\"round\" style=\"stroke:black;stroke-width:2\" /><line x1=\"531.838\" y1=\"440.318\" x2=\"535.438\" y2=\"441.987\" stroke-linecap=\"round\" style=\"stroke:black;stroke-width:2\" /><line x1=\"535.438\" y1=\"441.987\" x2=\"539.104\" y2=\"443.506\" stroke-linecap=\"round\" style=\"stroke:black;stroke-width:2\" /><line x1=\"539.104\" y1=\"443.506\" x2=\"542.83\" y2=\"444.872\" stroke-linecap=\"round\" style=\"stroke:black;stroke-width:2\" /><line x1=\"542.83\" y1=\"444.872\" x2=\"546.609\" y2=\"446.083\" stroke-linecap=\"round\" style=\"stroke:black;stroke-width:2\" /><line x1=\"546.609\" y1=\"446.083\" x2=\"550.435\" y2=\"447.136\" stroke-linecap=\"round\" style=\"stroke:black;stroke-width:2\" /><line x1=\"550.435\" y1=\"447.136\" x2=\"554.301\" y2=\"448.03\" stroke-linecap=\"round\" style=\"stroke:black;stroke-width:2\" /><line x1=\"554.301\" y1=\"448.03\" x2=\"558.201\" y2=\"448.764\" stroke-linecap=\"round\" style=\"stroke:black;stroke-width:2\" /><line x1=\"558.201\" y1=\"448.764\" x2=\"562.128\" y2=\"449.336\" stroke-linecap=\"round\" style=\"stroke:black;stroke-width:2\" /><line x1=\"562.128\" y1=\"449.336\" x2=\"566.075\" y2=\"449.745\" stroke-linecap=\"round\" style=\"stroke:black;stroke-width:2\" /><line x1=\"566.075\" y1=\"449.745\" x2=\"570.036\" y2=\"449.991\" stroke-linecap=\"round\" style=\"stroke:black;stroke-width:2\" /><line x1=\"570.036\" y1=\"449.991\" x2=\"574.003\" y2=\"450.073\" stroke-linecap=\"round\" style=\"stroke:black;stroke-width:2\" /><line x1=\"574.003\" y1=\"450.073\" x2=\"577.955\" y2=\"450.023\" stroke-linecap=\"round\" style=\"stroke:black;stroke-width:2\" /><line x1=\"577.955\" y1=\"450.023\" x2=\"581.904\" y2=\"449.873\" stroke-linecap=\"round\" style=\"stroke:black;stroke-width:2\" /><line x1=\"581.904\" y1=\"449.873\" x2=\"585.848\" y2=\"449.623\" stroke-linecap=\"round\" style=\"stroke:black;stroke-width:2\" /><line x1=\"585.848\" y1=\"449.623\" x2=\"589.785\" y2=\"449.273\" stroke-linecap=\"round\" style=\"stroke:black;stroke-width:2\" /><line x1=\"589.785\" y1=\"449.273\" x2=\"593.712\" y2=\"448.823\" stroke-linecap=\"round\" style=\"stroke:black;stroke-width:2\" /><line x1=\"593.712\" y1=\"448.823\" x2=\"597.626\" y2=\"448.274\" stroke-linecap=\"round\" style=\"stroke:black;stroke-width:2\" /><line x1=\"597.626\" y1=\"448.274\" x2=\"601.525\" y2=\"447.626\" stroke-linecap=\"round\" style=\"stroke:black;stroke-width:2\" /><line x1=\"601.525\" y1=\"447.626\" x2=\"605.406\" y2=\"446.88\" stroke-linecap=\"round\" style=\"stroke:black;stroke-width:2\" /><line x1=\"605.406\" y1=\"446.88\" x2=\"609.267\" y2=\"446.035\" stroke-linecap=\"round\" style=\"stroke:black;stroke-width:2\" /><line x1=\"609.267\" y1=\"446.035\" x2=\"613.105\" y2=\"445.093\" stroke-linecap=\"round\" style=\"stroke:black;stroke-width:2\" /><line x1=\"613.105\" y1=\"445.093\" x2=\"616.918\" y2=\"444.054\" stroke-linecap=\"round\" style=\"stroke:black;stroke-width:2\" /><line x1=\"616.918\" y1=\"444.054\" x2=\"620.704\" y2=\"442.919\" stroke-linecap=\"round\" style=\"stroke:black;stroke-width:2\" /><line x1=\"620.704\" y1=\"442.919\" x2=\"624.46\" y2=\"441.688\" stroke-linecap=\"round\" style=\"stroke:black;stroke-width:2\" /><line x1=\"624.46\" y1=\"441.688\" x2=\"628.183\" y2=\"440.362\" stroke-linecap=\"round\" style=\"stroke:black;stroke-width:2\" /><line x1=\"628.183\" y1=\"440.362\" x2=\"631.872\" y2=\"438.942\" stroke-linecap=\"round\" style=\"stroke:black;stroke-width:2\" /><line x1=\"631.872\" y1=\"438.942\" x2=\"635.523\" y2=\"437.43\" stroke-linecap=\"round\" style=\"stroke:black;stroke-width:2\" /><line x1=\"635.523\" y1=\"437.43\" x2=\"639.135\" y2=\"435.825\" stroke-linecap=\"round\" style=\"stroke:black;stroke-width:2\" /><line x1=\"639.135\" y1=\"435.825\" x2=\"642.705\" y2=\"434.13\" stroke-linecap=\"round\" style=\"stroke:black;stroke-width:2\" /><line x1=\"642.705\" y1=\"434.13\" x2=\"646.231\" y2=\"432.345\" stroke-linecap=\"round\" style=\"stroke:black;stroke-width:2\" /><line x1=\"646.231\" y1=\"432.345\" x2=\"649.711\" y2=\"430.471\" stroke-linecap=\"round\" style=\"stroke:black;stroke-width:2\" /><line x1=\"649.711\" y1=\"430.471\" x2=\"653.142\" y2=\"428.509\" stroke-linecap=\"round\" style=\"stroke:black;stroke-width:2\" /><line x1=\"653.142\" y1=\"428.509\" x2=\"656.522\" y2=\"426.461\" stroke-linecap=\"round\" style=\"stroke:black;stroke-width:2\" /><line x1=\"656.522\" y1=\"426.461\" x2=\"659.849\" y2=\"424.328\" stroke-linecap=\"round\" style=\"stroke:black;stroke-width:2\" /><line x1=\"659.849\" y1=\"424.328\" x2=\"663.121\" y2=\"422.111\" stroke-linecap=\"round\" style=\"stroke:black;stroke-width:2\" /><line x1=\"663.121\" y1=\"422.111\" x2=\"666.336\" y2=\"419.812\" stroke-linecap=\"round\" style=\"stroke:black;stroke-width:2\" /><line x1=\"666.336\" y1=\"419.812\" x2=\"669.492\" y2=\"417.433\" stroke-linecap=\"round\" style=\"stroke:black;stroke-width:2\" /><line x1=\"669.492\" y1=\"417.433\" x2=\"672.587\" y2=\"414.974\" stroke-linecap=\"round\" style=\"stroke:black;stroke-width:2\" /><line x1=\"672.587\" y1=\"414.974\" x2=\"675.618\" y2=\"412.438\" stroke-linecap=\"round\" style=\"stroke:black;stroke-width:2\" /><line x1=\"675.618\" y1=\"412.438\" x2=\"678.584\" y2=\"409.826\" stroke-linecap=\"round\" style=\"stroke:black;stroke-width:2\" /><line x1=\"678.584\" y1=\"409.826\" x2=\"681.483\" y2=\"407.139\" stroke-linecap=\"round\" style=\"stroke:black;stroke-width:2\" /><line x1=\"681.483\" y1=\"407.139\" x2=\"684.313\" y2=\"404.38\" stroke-linecap=\"round\" style=\"stroke:black;stroke-width:2\" /><line x1=\"684.313\" y1=\"404.38\" x2=\"687.072\" y2=\"401.55\" stroke-linecap=\"round\" style=\"stroke:black;stroke-width:2\" /><line x1=\"687.072\" y1=\"401.55\" x2=\"689.759\" y2=\"398.651\" stroke-linecap=\"round\" style=\"stroke:black;stroke-width:2\" /><line x1=\"689.759\" y1=\"398.651\" x2=\"692.371\" y2=\"395.685\" stroke-linecap=\"round\" style=\"stroke:black;stroke-width:2\" /><line x1=\"692.371\" y1=\"395.685\" x2=\"694.907\" y2=\"392.654\" stroke-linecap=\"round\" style=\"stroke:black;stroke-width:2\" /><line x1=\"694.907\" y1=\"392.654\" x2=\"697.366\" y2=\"389.559\" stroke-linecap=\"round\" style=\"stroke:black;stroke-width:2\" /><line x1=\"697.366\" y1=\"389.559\" x2=\"699.745\" y2=\"386.403\" stroke-linecap=\"round\" style=\"stroke:black;stroke-width:2\" /><line x1=\"699.745\" y1=\"386.403\" x2=\"702.044\" y2=\"383.188\" stroke-linecap=\"round\" style=\"stroke:black;stroke-width:2\" /><line x1=\"702.044\" y1=\"383.188\" x2=\"704.261\" y2=\"379.916\" stroke-linecap=\"round\" style=\"stroke:black;stroke-width:2\" /><line x1=\"704.261\" y1=\"379.916\" x2=\"706.394\" y2=\"376.589\" stroke-linecap=\"round\" style=\"stroke:black;stroke-width:2\" /><line x1=\"706.394\" y1=\"376.589\" x2=\"708.442\" y2=\"373.209\" stroke-linecap=\"round\" style=\"stroke:black;stroke-width:2\" /><line x1=\"708.442\" y1=\"373.209\" x2=\"710.404\" y2=\"369.778\" stroke-linecap=\"round\" style=\"stroke:black;stroke-width:2\" /><line x1=\"710.404\" y1=\"369.778\" x2=\"712.278\" y2=\"366.298\" stroke-linecap=\"round\" style=\"stroke:black;stroke-width:2\" /><line x1=\"712.278\" y1=\"366.298\" x2=\"714.063\" y2=\"362.772\" stroke-linecap=\"round\" style=\"stroke:black;stroke-width:2\" /><line x1=\"714.063\" y1=\"362.772\" x2=\"715.758\" y2=\"359.202\" stroke-linecap=\"round\" style=\"stroke:black;stroke-width:2\" /><line x1=\"715.758\" y1=\"359.202\" x2=\"717.363\" y2=\"355.59\" stroke-linecap=\"round\" style=\"stroke:black;stroke-width:2\" /><line x1=\"717.363\" y1=\"355.59\" x2=\"718.875\" y2=\"351.939\" stroke-linecap=\"round\" style=\"stroke:black;stroke-width:2\" /><line x1=\"718.875\" y1=\"351.939\" x2=\"720.295\" y2=\"348.25\" stroke-linecap=\"round\" style=\"stroke:black;stroke-width:2\" /><line x1=\"720.295\" y1=\"348.25\" x2=\"721.621\" y2=\"344.527\" stroke-linecap=\"round\" style=\"stroke:black;stroke-width:2\" /><line x1=\"721.621\" y1=\"344.527\" x2=\"722.852\" y2=\"340.771\" stroke-linecap=\"round\" style=\"stroke:black;stroke-width:2\" /><line x1=\"722.852\" y1=\"340.771\" x2=\"723.987\" y2=\"336.985\" stroke-linecap=\"round\" style=\"stroke:black;stroke-width:2\" /><line x1=\"723.987\" y1=\"336.985\" x2=\"725.026\" y2=\"333.172\" stroke-linecap=\"round\" style=\"stroke:black;stroke-width:2\" /><line x1=\"725.026\" y1=\"333.172\" x2=\"725.968\" y2=\"329.334\" stroke-linecap=\"round\" style=\"stroke:black;stroke-width:2\" /><line x1=\"725.968\" y1=\"329.334\" x2=\"726.813\" y2=\"325.473\" stroke-linecap=\"round\" style=\"stroke:black;stroke-width:2\" /><line x1=\"726.813\" y1=\"325.473\" x2=\"727.559\" y2=\"321.592\" stroke-linecap=\"round\" style=\"stroke:black;stroke-width:2\" /><line x1=\"727.559\" y1=\"321.592\" x2=\"728.207\" y2=\"317.693\" stroke-linecap=\"round\" style=\"stroke:black;stroke-width:2\" /><line x1=\"728.207\" y1=\"317.693\" x2=\"728.756\" y2=\"313.779\" stroke-linecap=\"round\" style=\"stroke:black;stroke-width:2\" /><line x1=\"728.756\" y1=\"313.779\" x2=\"729.206\" y2=\"309.852\" stroke-linecap=\"round\" style=\"stroke:black;stroke-width:2\" /><line x1=\"729.206\" y1=\"309.852\" x2=\"729.556\" y2=\"305.915\" stroke-linecap=\"round\" style=\"stroke:black;stroke-width:2\" /><line x1=\"729.556\" y1=\"305.915\" x2=\"729.806\" y2=\"301.971\" stroke-linecap=\"round\" style=\"stroke:black;stroke-width:2\" /><line x1=\"729.806\" y1=\"301.971\" x2=\"729.956\" y2=\"298.022\" stroke-linecap=\"round\" style=\"stroke:black;stroke-width:2\" /><line x1=\"729.956\" y1=\"298.022\" x2=\"730.006\" y2=\"294.07\" stroke-linecap=\"round\" style=\"stroke:black;stroke-width:2\" /><line x1=\"730.006\" y1=\"294.07\" x2=\"729.974\" y2=\"290.072\" stroke-linecap=\"round\" style=\"stroke:black;stroke-width:2\" /><line x1=\"729.974\" y1=\"290.072\" x2=\"729.879\" y2=\"286.075\" stroke-linecap=\"round\" style=\"stroke:black;stroke-width:2\" /><line x1=\"729.879\" y1=\"286.075\" x2=\"729.72\" y2=\"282.08\" stroke-linecap=\"round\" style=\"stroke:black;stroke-width:2\" /><line x1=\"729.72\" y1=\"282.08\" x2=\"729.498\" y2=\"278.088\" stroke-linecap=\"round\" style=\"stroke:black;stroke-width:2\" /><line x1=\"729.498\" y1=\"278.088\" x2=\"729.213\" y2=\"274.1\" stroke-linecap=\"round\" style=\"stroke:black;stroke-width:2\" /><line x1=\"729.213\" y1=\"274.1\" x2=\"728.865\" y2=\"270.117\" stroke-linecap=\"round\" style=\"stroke:black;stroke-width:2\" /><line x1=\"728.865\" y1=\"270.117\" x2=\"728.453\" y2=\"266.14\" stroke-linecap=\"round\" style=\"stroke:black;stroke-width:2\" /><line x1=\"728.453\" y1=\"266.14\" x2=\"727.978\" y2=\"262.17\" stroke-linecap=\"round\" style=\"stroke:black;stroke-width:2\" /><line x1=\"727.978\" y1=\"262.17\" x2=\"727.44\" y2=\"258.208\" stroke-linecap=\"round\" style=\"stroke:black;stroke-width:2\" /><line x1=\"727.44\" y1=\"258.208\" x2=\"726.84\" y2=\"254.255\" stroke-linecap=\"round\" style=\"stroke:black;stroke-width:2\" /><line x1=\"726.84\" y1=\"254.255\" x2=\"726.177\" y2=\"250.312\" stroke-linecap=\"round\" style=\"stroke:black;stroke-width:2\" /><line x1=\"726.177\" y1=\"250.312\" x2=\"725.451\" y2=\"246.38\" stroke-linecap=\"round\" style=\"stroke:black;stroke-width:2\" /><line x1=\"725.451\" y1=\"246.38\" x2=\"724.663\" y2=\"242.46\" stroke-linecap=\"round\" style=\"stroke:black;stroke-width:2\" /><line x1=\"724.663\" y1=\"242.46\" x2=\"723.813\" y2=\"238.553\" stroke-linecap=\"round\" style=\"stroke:black;stroke-width:2\" /><line x1=\"723.813\" y1=\"238.553\" x2=\"722.901\" y2=\"234.66\" stroke-linecap=\"round\" style=\"stroke:black;stroke-width:2\" /><line x1=\"722.901\" y1=\"234.66\" x2=\"721.928\" y2=\"230.782\" stroke-linecap=\"round\" style=\"stroke:black;stroke-width:2\" /><line x1=\"721.928\" y1=\"230.782\" x2=\"720.893\" y2=\"226.92\" stroke-linecap=\"round\" style=\"stroke:black;stroke-width:2\" /><line x1=\"720.893\" y1=\"226.92\" x2=\"719.797\" y2=\"223.075\" stroke-linecap=\"round\" style=\"stroke:black;stroke-width:2\" /><line x1=\"719.797\" y1=\"223.075\" x2=\"718.64\" y2=\"219.248\" stroke-linecap=\"round\" style=\"stroke:black;stroke-width:2\" /><line x1=\"718.64\" y1=\"219.248\" x2=\"717.423\" y2=\"215.439\" stroke-linecap=\"round\" style=\"stroke:black;stroke-width:2\" /><line x1=\"717.423\" y1=\"215.439\" x2=\"716.145\" y2=\"211.65\" stroke-linecap=\"round\" style=\"stroke:black;stroke-width:2\" /><line x1=\"716.145\" y1=\"211.65\" x2=\"714.807\" y2=\"207.882\" stroke-linecap=\"round\" style=\"stroke:black;stroke-width:2\" /><line x1=\"714.807\" y1=\"207.882\" x2=\"713.41\" y2=\"204.136\" stroke-linecap=\"round\" style=\"stroke:black;stroke-width:2\" /><line x1=\"713.41\" y1=\"204.136\" x2=\"711.953\" y2=\"200.412\" stroke-linecap=\"round\" style=\"stroke:black;stroke-width:2\" /><line x1=\"711.953\" y1=\"200.412\" x2=\"710.438\" y2=\"196.712\" stroke-linecap=\"round\" style=\"stroke:black;stroke-width:2\" /><line x1=\"710.438\" y1=\"196.712\" x2=\"708.864\" y2=\"193.036\" stroke-linecap=\"round\" style=\"stroke:black;stroke-width:2\" /><line x1=\"708.864\" y1=\"193.036\" x2=\"707.232\" y2=\"189.386\" stroke-linecap=\"round\" style=\"stroke:black;stroke-width:2\" /><line x1=\"707.232\" y1=\"189.386\" x2=\"705.542\" y2=\"185.762\" stroke-linecap=\"round\" style=\"stroke:black;stroke-width:2\" /><line x1=\"705.542\" y1=\"185.762\" x2=\"703.795\" y2=\"182.165\" stroke-linecap=\"round\" style=\"stroke:black;stroke-width:2\" /><line x1=\"703.795\" y1=\"182.165\" x2=\"701.991\" y2=\"178.597\" stroke-linecap=\"round\" style=\"stroke:black;stroke-width:2\" /><line x1=\"701.991\" y1=\"178.597\" x2=\"700.131\" y2=\"175.058\" stroke-linecap=\"round\" style=\"stroke:black;stroke-width:2\" /><line x1=\"700.131\" y1=\"175.058\" x2=\"698.215\" y2=\"171.549\" stroke-linecap=\"round\" style=\"stroke:black;stroke-width:2\" /><line x1=\"698.215\" y1=\"171.549\" x2=\"696.243\" y2=\"168.071\" stroke-linecap=\"round\" style=\"stroke:black;stroke-width:2\" /><line x1=\"696.243\" y1=\"168.071\" x2=\"694.216\" y2=\"164.624\" stroke-linecap=\"round\" style=\"stroke:black;stroke-width:2\" /><line x1=\"694.216\" y1=\"164.624\" x2=\"692.135\" y2=\"161.21\" stroke-linecap=\"round\" style=\"stroke:black;stroke-width:2\" /><line x1=\"692.135\" y1=\"161.21\" x2=\"690.0\" y2=\"157.829\" stroke-linecap=\"round\" style=\"stroke:black;stroke-width:2\" /><line x1=\"690.0\" y1=\"157.829\" x2=\"687.812\" y2=\"154.483\" stroke-linecap=\"round\" style=\"stroke:black;stroke-width:2\" /><line x1=\"687.812\" y1=\"154.483\" x2=\"685.571\" y2=\"151.172\" stroke-linecap=\"round\" style=\"stroke:black;stroke-width:2\" /><line x1=\"685.571\" y1=\"151.172\" x2=\"683.278\" y2=\"147.897\" stroke-linecap=\"round\" style=\"stroke:black;stroke-width:2\" /><line x1=\"683.278\" y1=\"147.897\" x2=\"680.933\" y2=\"144.659\" stroke-linecap=\"round\" style=\"stroke:black;stroke-width:2\" /><line x1=\"680.933\" y1=\"144.659\" x2=\"678.537\" y2=\"141.458\" stroke-linecap=\"round\" style=\"stroke:black;stroke-width:2\" /><line x1=\"678.537\" y1=\"141.458\" x2=\"676.09\" y2=\"138.296\" stroke-linecap=\"round\" style=\"stroke:black;stroke-width:2\" /><line x1=\"676.09\" y1=\"138.296\" x2=\"673.594\" y2=\"135.173\" stroke-linecap=\"round\" style=\"stroke:black;stroke-width:2\" /><line x1=\"673.594\" y1=\"135.173\" x2=\"671.048\" y2=\"132.09\" stroke-linecap=\"round\" style=\"stroke:black;stroke-width:2\" /><line x1=\"671.048\" y1=\"132.09\" x2=\"668.454\" y2=\"129.048\" stroke-linecap=\"round\" style=\"stroke:black;stroke-width:2\" /><line x1=\"668.454\" y1=\"129.048\" x2=\"665.812\" y2=\"126.047\" stroke-linecap=\"round\" style=\"stroke:black;stroke-width:2\" /><line x1=\"665.812\" y1=\"126.047\" x2=\"663.122\" y2=\"123.088\" stroke-linecap=\"round\" style=\"stroke:black;stroke-width:2\" /><line x1=\"663.122\" y1=\"123.088\" x2=\"660.386\" y2=\"120.172\" stroke-linecap=\"round\" style=\"stroke:black;stroke-width:2\" /><line x1=\"660.386\" y1=\"120.172\" x2=\"657.604\" y2=\"117.3\" stroke-linecap=\"round\" style=\"stroke:black;stroke-width:2\" /><line x1=\"657.604\" y1=\"117.3\" x2=\"654.777\" y2=\"114.473\" stroke-linecap=\"round\" style=\"stroke:black;stroke-width:2\" /><line x1=\"654.777\" y1=\"114.473\" x2=\"651.905\" y2=\"111.691\" stroke-linecap=\"round\" style=\"stroke:black;stroke-width:2\" /><line x1=\"651.905\" y1=\"111.691\" x2=\"648.989\" y2=\"108.955\" stroke-linecap=\"round\" style=\"stroke:black;stroke-width:2\" /><line x1=\"648.989\" y1=\"108.955\" x2=\"646.03\" y2=\"106.265\" stroke-linecap=\"round\" style=\"stroke:black;stroke-width:2\" /><line x1=\"646.03\" y1=\"106.265\" x2=\"643.029\" y2=\"103.623\" stroke-linecap=\"round\" style=\"stroke:black;stroke-width:2\" /><line x1=\"643.029\" y1=\"103.623\" x2=\"639.987\" y2=\"101.029\" stroke-linecap=\"round\" style=\"stroke:black;stroke-width:2\" /><line x1=\"639.987\" y1=\"101.029\" x2=\"636.904\" y2=\"98.483\" stroke-linecap=\"round\" style=\"stroke:black;stroke-width:2\" /><line x1=\"636.904\" y1=\"98.483\" x2=\"633.781\" y2=\"95.987\" stroke-linecap=\"round\" style=\"stroke:black;stroke-width:2\" /><line x1=\"633.781\" y1=\"95.987\" x2=\"630.619\" y2=\"93.54\" stroke-linecap=\"round\" style=\"stroke:black;stroke-width:2\" /><line x1=\"630.619\" y1=\"93.54\" x2=\"627.418\" y2=\"91.144\" stroke-linecap=\"round\" style=\"stroke:black;stroke-width:2\" /><line x1=\"627.418\" y1=\"91.144\" x2=\"624.18\" y2=\"88.799\" stroke-linecap=\"round\" style=\"stroke:black;stroke-width:2\" /><line x1=\"624.18\" y1=\"88.799\" x2=\"620.905\" y2=\"86.506\" stroke-linecap=\"round\" style=\"stroke:black;stroke-width:2\" /><line x1=\"620.905\" y1=\"86.506\" x2=\"617.594\" y2=\"84.265\" stroke-linecap=\"round\" style=\"stroke:black;stroke-width:2\" /><line x1=\"617.594\" y1=\"84.265\" x2=\"614.248\" y2=\"82.077\" stroke-linecap=\"round\" style=\"stroke:black;stroke-width:2\" /><line x1=\"614.248\" y1=\"82.077\" x2=\"610.867\" y2=\"79.942\" stroke-linecap=\"round\" style=\"stroke:black;stroke-width:2\" /><line x1=\"610.867\" y1=\"79.942\" x2=\"607.453\" y2=\"77.861\" stroke-linecap=\"round\" style=\"stroke:black;stroke-width:2\" /><line x1=\"607.453\" y1=\"77.861\" x2=\"604.006\" y2=\"75.834\" stroke-linecap=\"round\" style=\"stroke:black;stroke-width:2\" /><line x1=\"604.006\" y1=\"75.834\" x2=\"600.528\" y2=\"73.862\" stroke-linecap=\"round\" style=\"stroke:black;stroke-width:2\" /><line x1=\"600.528\" y1=\"73.862\" x2=\"597.019\" y2=\"71.946\" stroke-linecap=\"round\" style=\"stroke:black;stroke-width:2\" /><line x1=\"597.019\" y1=\"71.946\" x2=\"593.48\" y2=\"70.086\" stroke-linecap=\"round\" style=\"stroke:black;stroke-width:2\" /><line x1=\"593.48\" y1=\"70.086\" x2=\"589.912\" y2=\"68.282\" stroke-linecap=\"round\" style=\"stroke:black;stroke-width:2\" /><line x1=\"589.912\" y1=\"68.282\" x2=\"586.315\" y2=\"66.535\" stroke-linecap=\"round\" style=\"stroke:black;stroke-width:2\" /><line x1=\"586.315\" y1=\"66.535\" x2=\"582.691\" y2=\"64.845\" stroke-linecap=\"round\" style=\"stroke:black;stroke-width:2\" /><line x1=\"582.691\" y1=\"64.845\" x2=\"579.041\" y2=\"63.213\" stroke-linecap=\"round\" style=\"stroke:black;stroke-width:2\" /><line x1=\"579.041\" y1=\"63.213\" x2=\"575.365\" y2=\"61.639\" stroke-linecap=\"round\" style=\"stroke:black;stroke-width:2\" /><line x1=\"575.365\" y1=\"61.639\" x2=\"571.665\" y2=\"60.124\" stroke-linecap=\"round\" style=\"stroke:black;stroke-width:2\" /><line x1=\"571.665\" y1=\"60.124\" x2=\"567.941\" y2=\"58.667\" stroke-linecap=\"round\" style=\"stroke:black;stroke-width:2\" /><line x1=\"567.941\" y1=\"58.667\" x2=\"564.195\" y2=\"57.27\" stroke-linecap=\"round\" style=\"stroke:black;stroke-width:2\" /><line x1=\"564.195\" y1=\"57.27\" x2=\"560.427\" y2=\"55.932\" stroke-linecap=\"round\" style=\"stroke:black;stroke-width:2\" /><line x1=\"560.427\" y1=\"55.932\" x2=\"556.638\" y2=\"54.654\" stroke-linecap=\"round\" style=\"stroke:black;stroke-width:2\" /><line x1=\"556.638\" y1=\"54.654\" x2=\"552.829\" y2=\"53.437\" stroke-linecap=\"round\" style=\"stroke:black;stroke-width:2\" /><line x1=\"552.829\" y1=\"53.437\" x2=\"549.002\" y2=\"52.28\" stroke-linecap=\"round\" style=\"stroke:black;stroke-width:2\" /><line x1=\"549.002\" y1=\"52.28\" x2=\"545.157\" y2=\"51.184\" stroke-linecap=\"round\" style=\"stroke:black;stroke-width:2\" /><line x1=\"545.157\" y1=\"51.184\" x2=\"541.295\" y2=\"50.149\" stroke-linecap=\"round\" style=\"stroke:black;stroke-width:2\" /><line x1=\"541.295\" y1=\"50.149\" x2=\"537.417\" y2=\"49.176\" stroke-linecap=\"round\" style=\"stroke:black;stroke-width:2\" /><line x1=\"537.417\" y1=\"49.176\" x2=\"533.524\" y2=\"48.264\" stroke-linecap=\"round\" style=\"stroke:black;stroke-width:2\" /><line x1=\"533.524\" y1=\"48.264\" x2=\"529.617\" y2=\"47.414\" stroke-linecap=\"round\" style=\"stroke:black;stroke-width:2\" /><line x1=\"529.617\" y1=\"47.414\" x2=\"525.697\" y2=\"46.626\" stroke-linecap=\"round\" style=\"stroke:black;stroke-width:2\" /><line x1=\"525.697\" y1=\"46.626\" x2=\"521.765\" y2=\"45.9\" stroke-linecap=\"round\" style=\"stroke:black;stroke-width:2\" /><line x1=\"521.765\" y1=\"45.9\" x2=\"517.822\" y2=\"45.237\" stroke-linecap=\"round\" style=\"stroke:black;stroke-width:2\" /><line x1=\"517.822\" y1=\"45.237\" x2=\"513.869\" y2=\"44.637\" stroke-linecap=\"round\" style=\"stroke:black;stroke-width:2\" /><line x1=\"513.869\" y1=\"44.637\" x2=\"509.907\" y2=\"44.099\" stroke-linecap=\"round\" style=\"stroke:black;stroke-width:2\" /><line x1=\"509.907\" y1=\"44.099\" x2=\"505.937\" y2=\"43.624\" stroke-linecap=\"round\" style=\"stroke:black;stroke-width:2\" /><line x1=\"505.937\" y1=\"43.624\" x2=\"501.96\" y2=\"43.212\" stroke-linecap=\"round\" style=\"stroke:black;stroke-width:2\" /><line x1=\"501.96\" y1=\"43.212\" x2=\"497.977\" y2=\"42.864\" stroke-linecap=\"round\" style=\"stroke:black;stroke-width:2\" /><line x1=\"497.977\" y1=\"42.864\" x2=\"493.989\" y2=\"42.579\" stroke-linecap=\"round\" style=\"stroke:black;stroke-width:2\" /><line x1=\"493.989\" y1=\"42.579\" x2=\"489.997\" y2=\"42.357\" stroke-linecap=\"round\" style=\"stroke:black;stroke-width:2\" /><line x1=\"489.997\" y1=\"42.357\" x2=\"486.002\" y2=\"42.198\" stroke-linecap=\"round\" style=\"stroke:black;stroke-width:2\" /><line x1=\"486.002\" y1=\"42.198\" x2=\"482.005\" y2=\"42.103\" stroke-linecap=\"round\" style=\"stroke:black;stroke-width:2\" /><line x1=\"482.005\" y1=\"42.103\" x2=\"478.007\" y2=\"42.071\" stroke-linecap=\"round\" style=\"stroke:black;stroke-width:2\" /><line x1=\"478.007\" y1=\"42.071\" x2=\"474.026\" y2=\"42.09\" stroke-linecap=\"round\" style=\"stroke:black;stroke-width:2\" /><line x1=\"474.026\" y1=\"42.09\" x2=\"470.046\" y2=\"42.148\" stroke-linecap=\"round\" style=\"stroke:black;stroke-width:2\" /><line x1=\"470.046\" y1=\"42.148\" x2=\"466.067\" y2=\"42.245\" stroke-linecap=\"round\" style=\"stroke:black;stroke-width:2\" /><line x1=\"466.067\" y1=\"42.245\" x2=\"462.089\" y2=\"42.381\" stroke-linecap=\"round\" style=\"stroke:black;stroke-width:2\" /><line x1=\"462.089\" y1=\"42.381\" x2=\"458.112\" y2=\"42.556\" stroke-linecap=\"round\" style=\"stroke:black;stroke-width:2\" /><line x1=\"458.112\" y1=\"42.556\" x2=\"454.137\" y2=\"42.77\" stroke-linecap=\"round\" style=\"stroke:black;stroke-width:2\" /><line x1=\"454.137\" y1=\"42.77\" x2=\"450.164\" y2=\"43.022\" stroke-linecap=\"round\" style=\"stroke:black;stroke-width:2\" /><line x1=\"450.164\" y1=\"43.022\" x2=\"446.194\" y2=\"43.313\" stroke-linecap=\"round\" style=\"stroke:black;stroke-width:2\" /><line x1=\"446.194\" y1=\"43.313\" x2=\"442.227\" y2=\"43.643\" stroke-linecap=\"round\" style=\"stroke:black;stroke-width:2\" /><line x1=\"442.227\" y1=\"43.643\" x2=\"438.263\" y2=\"44.011\" stroke-linecap=\"round\" style=\"stroke:black;stroke-width:2\" /><line x1=\"438.263\" y1=\"44.011\" x2=\"434.303\" y2=\"44.418\" stroke-linecap=\"round\" style=\"stroke:black;stroke-width:2\" /><line x1=\"434.303\" y1=\"44.418\" x2=\"430.347\" y2=\"44.864\" stroke-linecap=\"round\" style=\"stroke:black;stroke-width:2\" /><line x1=\"430.347\" y1=\"44.864\" x2=\"426.396\" y2=\"45.348\" stroke-linecap=\"round\" style=\"stroke:black;stroke-width:2\" /><line x1=\"426.396\" y1=\"45.348\" x2=\"422.45\" y2=\"45.871\" stroke-linecap=\"round\" style=\"stroke:black;stroke-width:2\" /><line x1=\"422.45\" y1=\"45.871\" x2=\"418.509\" y2=\"46.432\" stroke-linecap=\"round\" style=\"stroke:black;stroke-width:2\" /><line x1=\"418.509\" y1=\"46.432\" x2=\"414.574\" y2=\"47.032\" stroke-linecap=\"round\" style=\"stroke:black;stroke-width:2\" /><line x1=\"414.574\" y1=\"47.032\" x2=\"410.645\" y2=\"47.67\" stroke-linecap=\"round\" style=\"stroke:black;stroke-width:2\" /><line x1=\"410.645\" y1=\"47.67\" x2=\"406.722\" y2=\"48.346\" stroke-linecap=\"round\" style=\"stroke:black;stroke-width:2\" /><line x1=\"406.722\" y1=\"48.346\" x2=\"402.806\" y2=\"49.061\" stroke-linecap=\"round\" style=\"stroke:black;stroke-width:2\" /><line x1=\"402.806\" y1=\"49.061\" x2=\"398.897\" y2=\"49.814\" stroke-linecap=\"round\" style=\"stroke:black;stroke-width:2\" /><line x1=\"398.897\" y1=\"49.814\" x2=\"394.996\" y2=\"50.605\" stroke-linecap=\"round\" style=\"stroke:black;stroke-width:2\" /><line x1=\"394.996\" y1=\"50.605\" x2=\"391.103\" y2=\"51.434\" stroke-linecap=\"round\" style=\"stroke:black;stroke-width:2\" /><line x1=\"391.103\" y1=\"51.434\" x2=\"387.218\" y2=\"52.301\" stroke-linecap=\"round\" style=\"stroke:black;stroke-width:2\" /><line x1=\"387.218\" y1=\"52.301\" x2=\"383.342\" y2=\"53.206\" stroke-linecap=\"round\" style=\"stroke:black;stroke-width:2\" /><line x1=\"383.342\" y1=\"53.206\" x2=\"379.475\" y2=\"54.148\" stroke-linecap=\"round\" style=\"stroke:black;stroke-width:2\" /><line x1=\"379.475\" y1=\"54.148\" x2=\"375.617\" y2=\"55.128\" stroke-linecap=\"round\" style=\"stroke:black;stroke-width:2\" /><line x1=\"375.617\" y1=\"55.128\" x2=\"371.769\" y2=\"56.146\" stroke-linecap=\"round\" style=\"stroke:black;stroke-width:2\" /><line x1=\"371.769\" y1=\"56.146\" x2=\"367.931\" y2=\"57.201\" stroke-linecap=\"round\" style=\"stroke:black;stroke-width:2\" /><line x1=\"367.931\" y1=\"57.201\" x2=\"364.103\" y2=\"58.294\" stroke-linecap=\"round\" style=\"stroke:black;stroke-width:2\" /><line x1=\"364.103\" y1=\"58.294\" x2=\"360.286\" y2=\"59.424\" stroke-linecap=\"round\" style=\"stroke:black;stroke-width:2\" /><line x1=\"360.286\" y1=\"59.424\" x2=\"356.48\" y2=\"60.591\" stroke-linecap=\"round\" style=\"stroke:black;stroke-width:2\" /><line x1=\"356.48\" y1=\"60.591\" x2=\"352.686\" y2=\"61.795\" stroke-linecap=\"round\" style=\"stroke:black;stroke-width:2\" /><line x1=\"352.686\" y1=\"61.795\" x2=\"348.904\" y2=\"63.036\" stroke-linecap=\"round\" style=\"stroke:black;stroke-width:2\" /><line x1=\"348.904\" y1=\"63.036\" x2=\"345.134\" y2=\"64.314\" stroke-linecap=\"round\" style=\"stroke:black;stroke-width:2\" /><line x1=\"345.134\" y1=\"64.314\" x2=\"341.377\" y2=\"65.629\" stroke-linecap=\"round\" style=\"stroke:black;stroke-width:2\" /><line x1=\"341.377\" y1=\"65.629\" x2=\"337.633\" y2=\"66.98\" stroke-linecap=\"round\" style=\"stroke:black;stroke-width:2\" /><line x1=\"337.633\" y1=\"66.98\" x2=\"333.902\" y2=\"68.368\" stroke-linecap=\"round\" style=\"stroke:black;stroke-width:2\" /><line x1=\"333.902\" y1=\"68.368\" x2=\"330.185\" y2=\"69.792\" stroke-linecap=\"round\" style=\"stroke:black;stroke-width:2\" /><line x1=\"330.185\" y1=\"69.792\" x2=\"326.482\" y2=\"71.252\" stroke-linecap=\"round\" style=\"stroke:black;stroke-width:2\" /><line x1=\"326.482\" y1=\"71.252\" x2=\"322.793\" y2=\"72.748\" stroke-linecap=\"round\" style=\"stroke:black;stroke-width:2\" /><line x1=\"322.793\" y1=\"72.748\" x2=\"319.119\" y2=\"74.28\" stroke-linecap=\"round\" style=\"stroke:black;stroke-width:2\" /><line x1=\"319.119\" y1=\"74.28\" x2=\"315.46\" y2=\"75.848\" stroke-linecap=\"round\" style=\"stroke:black;stroke-width:2\" /><line x1=\"315.46\" y1=\"75.848\" x2=\"311.817\" y2=\"77.452\" stroke-linecap=\"round\" style=\"stroke:black;stroke-width:2\" /><line x1=\"311.817\" y1=\"77.452\" x2=\"308.19\" y2=\"79.091\" stroke-linecap=\"round\" style=\"stroke:black;stroke-width:2\" /><line x1=\"308.19\" y1=\"79.091\" x2=\"304.579\" y2=\"80.765\" stroke-linecap=\"round\" style=\"stroke:black;stroke-width:2\" /><line x1=\"304.579\" y1=\"80.765\" x2=\"300.984\" y2=\"82.475\" stroke-linecap=\"round\" style=\"stroke:black;stroke-width:2\" /><line x1=\"300.984\" y1=\"82.475\" x2=\"297.406\" y2=\"84.22\" stroke-linecap=\"round\" style=\"stroke:black;stroke-width:2\" /><line x1=\"297.406\" y1=\"84.22\" x2=\"293.845\" y2=\"85.999\" stroke-linecap=\"round\" style=\"stroke:black;stroke-width:2\" /><line x1=\"293.845\" y1=\"85.999\" x2=\"290.302\" y2=\"87.813\" stroke-linecap=\"round\" style=\"stroke:black;stroke-width:2\" /><line x1=\"290.302\" y1=\"87.813\" x2=\"286.777\" y2=\"89.662\" stroke-linecap=\"round\" style=\"stroke:black;stroke-width:2\" /><line x1=\"286.777\" y1=\"89.662\" x2=\"283.27\" y2=\"91.545\" stroke-linecap=\"round\" style=\"stroke:black;stroke-width:2\" /><line x1=\"283.27\" y1=\"91.545\" x2=\"279.781\" y2=\"93.462\" stroke-linecap=\"round\" style=\"stroke:black;stroke-width:2\" /><line x1=\"279.781\" y1=\"93.462\" x2=\"276.311\" y2=\"95.413\" stroke-linecap=\"round\" style=\"stroke:black;stroke-width:2\" /><line x1=\"276.311\" y1=\"95.413\" x2=\"272.86\" y2=\"97.398\" stroke-linecap=\"round\" style=\"stroke:black;stroke-width:2\" /><line x1=\"272.86\" y1=\"97.398\" x2=\"269.429\" y2=\"99.416\" stroke-linecap=\"round\" style=\"stroke:black;stroke-width:2\" /><line x1=\"269.429\" y1=\"99.416\" x2=\"266.018\" y2=\"101.468\" stroke-linecap=\"round\" style=\"stroke:black;stroke-width:2\" /><line x1=\"266.018\" y1=\"101.468\" x2=\"262.627\" y2=\"103.553\" stroke-linecap=\"round\" style=\"stroke:black;stroke-width:2\" /><line x1=\"262.627\" y1=\"103.553\" x2=\"259.256\" y2=\"105.671\" stroke-linecap=\"round\" style=\"stroke:black;stroke-width:2\" /><line x1=\"259.256\" y1=\"105.671\" x2=\"255.906\" y2=\"107.822\" stroke-linecap=\"round\" style=\"stroke:black;stroke-width:2\" /><line x1=\"255.906\" y1=\"107.822\" x2=\"252.577\" y2=\"110.005\" stroke-linecap=\"round\" style=\"stroke:black;stroke-width:2\" /><line x1=\"252.577\" y1=\"110.005\" x2=\"249.27\" y2=\"112.221\" stroke-linecap=\"round\" style=\"stroke:black;stroke-width:2\" /><line x1=\"249.27\" y1=\"112.221\" x2=\"245.985\" y2=\"114.469\" stroke-linecap=\"round\" style=\"stroke:black;stroke-width:2\" /><line x1=\"245.985\" y1=\"114.469\" x2=\"242.722\" y2=\"116.749\" stroke-linecap=\"round\" style=\"stroke:black;stroke-width:2\" /><line x1=\"242.722\" y1=\"116.749\" x2=\"239.481\" y2=\"119.06\" stroke-linecap=\"round\" style=\"stroke:black;stroke-width:2\" /><line x1=\"239.481\" y1=\"119.06\" x2=\"236.263\" y2=\"121.403\" stroke-linecap=\"round\" style=\"stroke:black;stroke-width:2\" /><line x1=\"236.263\" y1=\"121.403\" x2=\"233.068\" y2=\"123.777\" stroke-linecap=\"round\" style=\"stroke:black;stroke-width:2\" /><line x1=\"233.068\" y1=\"123.777\" x2=\"229.896\" y2=\"126.182\" stroke-linecap=\"round\" style=\"stroke:black;stroke-width:2\" /><line x1=\"229.896\" y1=\"126.182\" x2=\"226.748\" y2=\"128.618\" stroke-linecap=\"round\" style=\"stroke:black;stroke-width:2\" /><line x1=\"226.748\" y1=\"128.618\" x2=\"223.624\" y2=\"131.085\" stroke-linecap=\"round\" style=\"stroke:black;stroke-width:2\" /><line x1=\"223.624\" y1=\"131.085\" x2=\"220.524\" y2=\"133.582\" stroke-linecap=\"round\" style=\"stroke:black;stroke-width:2\" /><line x1=\"220.524\" y1=\"133.582\" x2=\"217.448\" y2=\"136.109\" stroke-linecap=\"round\" style=\"stroke:black;stroke-width:2\" /><line x1=\"217.448\" y1=\"136.109\" x2=\"214.397\" y2=\"138.666\" stroke-linecap=\"round\" style=\"stroke:black;stroke-width:2\" /><line x1=\"214.397\" y1=\"138.666\" x2=\"211.371\" y2=\"141.253\" stroke-linecap=\"round\" style=\"stroke:black;stroke-width:2\" /><line x1=\"211.371\" y1=\"141.253\" x2=\"208.371\" y2=\"143.869\" stroke-linecap=\"round\" style=\"stroke:black;stroke-width:2\" /><line x1=\"208.371\" y1=\"143.869\" x2=\"205.396\" y2=\"146.514\" stroke-linecap=\"round\" style=\"stroke:black;stroke-width:2\" /><line x1=\"205.396\" y1=\"146.514\" x2=\"202.447\" y2=\"149.188\" stroke-linecap=\"round\" style=\"stroke:black;stroke-width:2\" /><line x1=\"202.447\" y1=\"149.188\" x2=\"199.525\" y2=\"151.891\" stroke-linecap=\"round\" style=\"stroke:black;stroke-width:2\" /><line x1=\"199.525\" y1=\"151.891\" x2=\"196.629\" y2=\"154.622\" stroke-linecap=\"round\" style=\"stroke:black;stroke-width:2\" /><line x1=\"196.629\" y1=\"154.622\" x2=\"193.76\" y2=\"157.381\" stroke-linecap=\"round\" style=\"stroke:black;stroke-width:2\" /><line x1=\"193.76\" y1=\"157.381\" x2=\"190.918\" y2=\"160.168\" stroke-linecap=\"round\" style=\"stroke:black;stroke-width:2\" /><line x1=\"190.918\" y1=\"160.168\" x2=\"188.103\" y2=\"162.983\" stroke-linecap=\"round\" style=\"stroke:black;stroke-width:2\" /><line x1=\"188.103\" y1=\"162.983\" x2=\"185.316\" y2=\"165.825\" stroke-linecap=\"round\" style=\"stroke:black;stroke-width:2\" /><line x1=\"185.316\" y1=\"165.825\" x2=\"182.557\" y2=\"168.694\" stroke-linecap=\"round\" style=\"stroke:black;stroke-width:2\" /><line x1=\"182.557\" y1=\"168.694\" x2=\"179.826\" y2=\"171.59\" stroke-linecap=\"round\" style=\"stroke:black;stroke-width:2\" /><line x1=\"179.826\" y1=\"171.59\" x2=\"177.123\" y2=\"174.512\" stroke-linecap=\"round\" style=\"stroke:black;stroke-width:2\" /><line x1=\"177.123\" y1=\"174.512\" x2=\"174.449\" y2=\"177.461\" stroke-linecap=\"round\" style=\"stroke:black;stroke-width:2\" /><line x1=\"174.449\" y1=\"177.461\" x2=\"171.804\" y2=\"180.436\" stroke-linecap=\"round\" style=\"stroke:black;stroke-width:2\" /><line x1=\"171.804\" y1=\"180.436\" x2=\"169.188\" y2=\"183.436\" stroke-linecap=\"round\" style=\"stroke:black;stroke-width:2\" /><line x1=\"169.188\" y1=\"183.436\" x2=\"166.601\" y2=\"186.462\" stroke-linecap=\"round\" style=\"stroke:black;stroke-width:2\" /><line x1=\"166.601\" y1=\"186.462\" x2=\"164.044\" y2=\"189.513\" stroke-linecap=\"round\" style=\"stroke:black;stroke-width:2\" /><line x1=\"164.044\" y1=\"189.513\" x2=\"161.517\" y2=\"192.589\" stroke-linecap=\"round\" style=\"stroke:black;stroke-width:2\" /><line x1=\"161.517\" y1=\"192.589\" x2=\"159.02\" y2=\"195.689\" stroke-linecap=\"round\" style=\"stroke:black;stroke-width:2\" /><line x1=\"159.02\" y1=\"195.689\" x2=\"156.553\" y2=\"198.813\" stroke-linecap=\"round\" style=\"stroke:black;stroke-width:2\" /><line x1=\"156.553\" y1=\"198.813\" x2=\"154.117\" y2=\"201.961\" stroke-linecap=\"round\" style=\"stroke:black;stroke-width:2\" /><line x1=\"154.117\" y1=\"201.961\" x2=\"151.712\" y2=\"205.133\" stroke-linecap=\"round\" style=\"stroke:black;stroke-width:2\" /><line x1=\"151.712\" y1=\"205.133\" x2=\"149.338\" y2=\"208.328\" stroke-linecap=\"round\" style=\"stroke:black;stroke-width:2\" /><line x1=\"149.338\" y1=\"208.328\" x2=\"146.995\" y2=\"211.546\" stroke-linecap=\"round\" style=\"stroke:black;stroke-width:2\" /><line x1=\"146.995\" y1=\"211.546\" x2=\"144.684\" y2=\"214.787\" stroke-linecap=\"round\" style=\"stroke:black;stroke-width:2\" /><line x1=\"144.684\" y1=\"214.787\" x2=\"142.404\" y2=\"218.05\" stroke-linecap=\"round\" style=\"stroke:black;stroke-width:2\" /><line x1=\"142.404\" y1=\"218.05\" x2=\"140.156\" y2=\"221.335\" stroke-linecap=\"round\" style=\"stroke:black;stroke-width:2\" /><line x1=\"140.156\" y1=\"221.335\" x2=\"137.94\" y2=\"224.642\" stroke-linecap=\"round\" style=\"stroke:black;stroke-width:2\" /><line x1=\"137.94\" y1=\"224.642\" x2=\"135.757\" y2=\"227.971\" stroke-linecap=\"round\" style=\"stroke:black;stroke-width:2\" /><line x1=\"135.757\" y1=\"227.971\" x2=\"133.606\" y2=\"231.321\" stroke-linecap=\"round\" style=\"stroke:black;stroke-width:2\" /><line x1=\"133.606\" y1=\"231.321\" x2=\"131.488\" y2=\"234.692\" stroke-linecap=\"round\" style=\"stroke:black;stroke-width:2\" /><line x1=\"131.488\" y1=\"234.692\" x2=\"129.403\" y2=\"238.083\" stroke-linecap=\"round\" style=\"stroke:black;stroke-width:2\" /><line x1=\"129.403\" y1=\"238.083\" x2=\"127.351\" y2=\"241.494\" stroke-linecap=\"round\" style=\"stroke:black;stroke-width:2\" /><line x1=\"127.351\" y1=\"241.494\" x2=\"125.333\" y2=\"244.925\" stroke-linecap=\"round\" style=\"stroke:black;stroke-width:2\" /><line x1=\"125.333\" y1=\"244.925\" x2=\"123.348\" y2=\"248.376\" stroke-linecap=\"round\" style=\"stroke:black;stroke-width:2\" /><line x1=\"123.348\" y1=\"248.376\" x2=\"121.397\" y2=\"251.846\" stroke-linecap=\"round\" style=\"stroke:black;stroke-width:2\" /><line x1=\"121.397\" y1=\"251.846\" x2=\"119.48\" y2=\"255.335\" stroke-linecap=\"round\" style=\"stroke:black;stroke-width:2\" /><line x1=\"119.48\" y1=\"255.335\" x2=\"117.597\" y2=\"258.842\" stroke-linecap=\"round\" style=\"stroke:black;stroke-width:2\" /><line x1=\"117.597\" y1=\"258.842\" x2=\"115.748\" y2=\"262.367\" stroke-linecap=\"round\" style=\"stroke:black;stroke-width:2\" /><line x1=\"115.748\" y1=\"262.367\" x2=\"113.934\" y2=\"265.91\" stroke-linecap=\"round\" style=\"stroke:black;stroke-width:2\" /><line x1=\"113.934\" y1=\"265.91\" x2=\"112.155\" y2=\"269.471\" stroke-linecap=\"round\" style=\"stroke:black;stroke-width:2\" /><line x1=\"112.155\" y1=\"269.471\" x2=\"110.41\" y2=\"273.049\" stroke-linecap=\"round\" style=\"stroke:black;stroke-width:2\" /><line x1=\"110.41\" y1=\"273.049\" x2=\"108.7\" y2=\"276.644\" stroke-linecap=\"round\" style=\"stroke:black;stroke-width:2\" /><line x1=\"108.7\" y1=\"276.644\" x2=\"107.026\" y2=\"280.255\" stroke-linecap=\"round\" style=\"stroke:black;stroke-width:2\" /><line x1=\"107.026\" y1=\"280.255\" x2=\"105.387\" y2=\"283.882\" stroke-linecap=\"round\" style=\"stroke:black;stroke-width:2\" /><line x1=\"105.387\" y1=\"283.882\" x2=\"103.783\" y2=\"287.525\" stroke-linecap=\"round\" style=\"stroke:black;stroke-width:2\" /><line x1=\"103.783\" y1=\"287.525\" x2=\"102.215\" y2=\"291.184\" stroke-linecap=\"round\" style=\"stroke:black;stroke-width:2\" /><line x1=\"102.215\" y1=\"291.184\" x2=\"100.683\" y2=\"294.858\" stroke-linecap=\"round\" style=\"stroke:black;stroke-width:2\" /><line x1=\"100.683\" y1=\"294.858\" x2=\"99.187\" y2=\"298.547\" stroke-linecap=\"round\" style=\"stroke:black;stroke-width:2\" /><line x1=\"99.187\" y1=\"298.547\" x2=\"97.727\" y2=\"302.25\" stroke-linecap=\"round\" style=\"stroke:black;stroke-width:2\" /><line x1=\"97.727\" y1=\"302.25\" x2=\"96.303\" y2=\"305.967\" stroke-linecap=\"round\" style=\"stroke:black;stroke-width:2\" /><line x1=\"96.303\" y1=\"305.967\" x2=\"94.915\" y2=\"309.698\" stroke-linecap=\"round\" style=\"stroke:black;stroke-width:2\" /><line x1=\"94.915\" y1=\"309.698\" x2=\"93.564\" y2=\"313.442\" stroke-linecap=\"round\" style=\"stroke:black;stroke-width:2\" /><line x1=\"93.564\" y1=\"313.442\" x2=\"92.249\" y2=\"317.199\" stroke-linecap=\"round\" style=\"stroke:black;stroke-width:2\" /><line x1=\"92.249\" y1=\"317.199\" x2=\"90.971\" y2=\"320.969\" stroke-linecap=\"round\" style=\"stroke:black;stroke-width:2\" /><line x1=\"90.971\" y1=\"320.969\" x2=\"89.73\" y2=\"324.751\" stroke-linecap=\"round\" style=\"stroke:black;stroke-width:2\" /><line x1=\"89.73\" y1=\"324.751\" x2=\"88.526\" y2=\"328.545\" stroke-linecap=\"round\" style=\"stroke:black;stroke-width:2\" /><line x1=\"88.526\" y1=\"328.545\" x2=\"87.359\" y2=\"332.351\" stroke-linecap=\"round\" style=\"stroke:black;stroke-width:2\" /><line x1=\"87.359\" y1=\"332.351\" x2=\"86.229\" y2=\"336.168\" stroke-linecap=\"round\" style=\"stroke:black;stroke-width:2\" /><line x1=\"86.229\" y1=\"336.168\" x2=\"85.136\" y2=\"339.996\" stroke-linecap=\"round\" style=\"stroke:black;stroke-width:2\" /><line x1=\"85.136\" y1=\"339.996\" x2=\"84.081\" y2=\"343.834\" stroke-linecap=\"round\" style=\"stroke:black;stroke-width:2\" /><line x1=\"84.081\" y1=\"343.834\" x2=\"83.063\" y2=\"347.682\" stroke-linecap=\"round\" style=\"stroke:black;stroke-width:2\" /><line x1=\"83.063\" y1=\"347.682\" x2=\"82.083\" y2=\"351.54\" stroke-linecap=\"round\" style=\"stroke:black;stroke-width:2\" /><line x1=\"82.083\" y1=\"351.54\" x2=\"81.141\" y2=\"355.407\" stroke-linecap=\"round\" style=\"stroke:black;stroke-width:2\" /><line x1=\"81.141\" y1=\"355.407\" x2=\"80.236\" y2=\"359.283\" stroke-linecap=\"round\" style=\"stroke:black;stroke-width:2\" /><line x1=\"80.236\" y1=\"359.283\" x2=\"79.369\" y2=\"363.168\" stroke-linecap=\"round\" style=\"stroke:black;stroke-width:2\" /><line x1=\"79.369\" y1=\"363.168\" x2=\"78.54\" y2=\"367.061\" stroke-linecap=\"round\" style=\"stroke:black;stroke-width:2\" /><line x1=\"78.54\" y1=\"367.061\" x2=\"77.749\" y2=\"370.962\" stroke-linecap=\"round\" style=\"stroke:black;stroke-width:2\" /><line x1=\"77.749\" y1=\"370.962\" x2=\"76.996\" y2=\"374.871\" stroke-linecap=\"round\" style=\"stroke:black;stroke-width:2\" /><line x1=\"76.996\" y1=\"374.871\" x2=\"76.281\" y2=\"378.787\" stroke-linecap=\"round\" style=\"stroke:black;stroke-width:2\" /><line x1=\"76.281\" y1=\"378.787\" x2=\"75.605\" y2=\"382.71\" stroke-linecap=\"round\" style=\"stroke:black;stroke-width:2\" /><line x1=\"75.605\" y1=\"382.71\" x2=\"74.967\" y2=\"386.639\" stroke-linecap=\"round\" style=\"stroke:black;stroke-width:2\" /><line x1=\"74.967\" y1=\"386.639\" x2=\"74.367\" y2=\"390.574\" stroke-linecap=\"round\" style=\"stroke:black;stroke-width:2\" /><line x1=\"74.367\" y1=\"390.574\" x2=\"73.806\" y2=\"394.515\" stroke-linecap=\"round\" style=\"stroke:black;stroke-width:2\" /><line x1=\"73.806\" y1=\"394.515\" x2=\"73.283\" y2=\"398.461\" stroke-linecap=\"round\" style=\"stroke:black;stroke-width:2\" /><line x1=\"73.283\" y1=\"398.461\" x2=\"72.799\" y2=\"402.412\" stroke-linecap=\"round\" style=\"stroke:black;stroke-width:2\" /><line x1=\"72.799\" y1=\"402.412\" x2=\"72.353\" y2=\"406.368\" stroke-linecap=\"round\" style=\"stroke:black;stroke-width:2\" /><line x1=\"72.353\" y1=\"406.368\" x2=\"71.946\" y2=\"410.328\" stroke-linecap=\"round\" style=\"stroke:black;stroke-width:2\" /><line x1=\"71.946\" y1=\"410.328\" x2=\"71.578\" y2=\"414.292\" stroke-linecap=\"round\" style=\"stroke:black;stroke-width:2\" /><line x1=\"71.578\" y1=\"414.292\" x2=\"71.248\" y2=\"418.259\" stroke-linecap=\"round\" style=\"stroke:black;stroke-width:2\" /><line x1=\"71.248\" y1=\"418.259\" x2=\"70.957\" y2=\"422.229\" stroke-linecap=\"round\" style=\"stroke:black;stroke-width:2\" /><line x1=\"70.957\" y1=\"422.229\" x2=\"70.705\" y2=\"426.202\" stroke-linecap=\"round\" style=\"stroke:black;stroke-width:2\" /><line x1=\"70.705\" y1=\"426.202\" x2=\"70.491\" y2=\"430.177\" stroke-linecap=\"round\" style=\"stroke:black;stroke-width:2\" /><line x1=\"70.491\" y1=\"430.177\" x2=\"70.316\" y2=\"434.154\" stroke-linecap=\"round\" style=\"stroke:black;stroke-width:2\" /><line x1=\"70.316\" y1=\"434.154\" x2=\"70.18\" y2=\"438.132\" stroke-linecap=\"round\" style=\"stroke:black;stroke-width:2\" /><line x1=\"70.18\" y1=\"438.132\" x2=\"70.083\" y2=\"442.111\" stroke-linecap=\"round\" style=\"stroke:black;stroke-width:2\" /><line x1=\"70.083\" y1=\"442.111\" x2=\"70.025\" y2=\"446.091\" stroke-linecap=\"round\" style=\"stroke:black;stroke-width:2\" /><line x1=\"70.025\" y1=\"446.091\" x2=\"70.006\" y2=\"450.072\" stroke-linecap=\"round\" style=\"stroke:black;stroke-width:2\" />\n",
       "        \n",
       "        \n",
       "        <g id=\"classic\" visibility=\"visible\" transform=\"rotate(-0.2795031055897681,70.006,450.072) translate(70.006, 450.072)\">\n",
       "<polygon points=\"-5,-4.5 0,-2.5 5,-4.5 0,4.5\" transform=\"skewX(0) scale(1,1)\" style=\"stroke:black;fill:red;stroke-width:1\" />\n",
       "<animateTransform id = \"one\" attributeName=\"transform\" \n",
       "                      type=\"scale\"\n",
       "                      from=\"1 1\" to=\"1 1\"\n",
       "                      begin=\"0s\" dur=\"0.01s\"\n",
       "                      repeatCount=\"1\"\n",
       "                      additive=\"sum\"\n",
       "                      fill=\"freeze\"\n",
       "                /><animateTransform attributeName=\"transform\"\n",
       "                    type=\"rotate\"\n",
       "                    from=\"0 0 0\" to =\"0.2795031055900621 0 0\"\n",
       "                    begin=\"one.end\" dur=\"1.5527950310559003e-05s\"\n",
       "                    repeatCount=\"1\"\n",
       "                    additive=\"sum\"\n",
       "                    fill=\"freeze\"\n",
       "                /></g>\n",
       "      </svg>\n",
       "    "
      ],
      "text/plain": [
       "<IPython.core.display.HTML object>"
      ]
     },
     "metadata": {},
     "output_type": "display_data"
    },
    {
     "name": "stdout",
     "output_type": "stream",
     "text": [
      "[12, 12, 24, 36, 60, 96, 156, 252, 408]\n"
     ]
    }
   ],
   "source": [
    "\n",
    "# import library\n",
    "import ColabTurtlePlus.Turtle as myTurtle\n",
    "import math\n",
    "\n",
    "### SETTINGS -----------------\n",
    "myTurtle.clearscreen()\n",
    "\n",
    "myTurtle.setup(800,500)\n",
    "myTurtle.color(\"black\", \"red\");\n",
    "myTurtle.speed(13)\n",
    "\n",
    "myTurtle.penup()\n",
    "\n",
    "init_position = (150, -80)\n",
    "\n",
    "myTurtle.setpos(*init_position)\n",
    "\n",
    "myTurtle.pendown()\n",
    "myTurtle.pensize(2)\n",
    "\n",
    "sideLen = 12\n",
    "sideSizes = []\n",
    "\n",
    "#### -----------------------\n",
    "\n",
    "def main():             # this function calculate the value of fib and sends the results to the draw function\n",
    "    valueOne = 0\n",
    "    valueTwo = 1\n",
    "    fib = 1\n",
    "    for i in range(9):                      # number of squares to draw\n",
    "        myTurtle.right(90*-3)                  # point turtle to down position\n",
    "        # call drawSq function-  argument = length of sides\n",
    "        drawSquare(sideSize=fib * sideLen)\n",
    "        sideSizes.append(fib * sideLen)\n",
    "        fib = valueOne + valueTwo           # calculate the value of Fibonacci\n",
    "        valueOne = valueTwo\n",
    "        valueTwo = fib\n",
    "    print(sideSizes)\n",
    "\n",
    "# this function draws the Fibonacci square\n",
    "\n",
    "\n",
    "def drawSquare(sideSize):\n",
    "    area = pow(sideSize, 2)\n",
    "    # the value 6 ensures that the start of the next square is correct\n",
    "    for n in range(6):\n",
    "        if n == 0:\n",
    "            # myTurtle.write(sideSize, align='center')\n",
    "            pass\n",
    "        myTurtle.forward(sideSize)            # draw the sides of the squares\n",
    "        myTurtle.left(90*-1)                  # turn pointer left 90 degrees\n",
    "\n",
    "\n",
    "def spiral():\n",
    "    angle = 90\n",
    "    myTurtle.left(90)                     # turn turtle to down position\n",
    "    myTurtle.penup()\n",
    "    # move turtle to starting point of first square\n",
    "    myTurtle.setpos(*init_position)\n",
    "    myTurtle.pendown()\n",
    "    # draw fibonacci spiral\n",
    "    for arcValue in sideSizes:\n",
    "        arc(arcValue, angle)\n",
    "\n",
    "\n",
    "def arcLine(n, length, angle):            # Draws n line segments.\n",
    "    for i in range(n):\n",
    "        myTurtle.forward(length)\n",
    "        myTurtle.left(angle)\n",
    "\n",
    "\n",
    "def arc(r, angle):  # Draws an arc with the given radius and angle\n",
    "    arc_length = 2 * math.pi * r * abs(angle) / 360\n",
    "    n = int(arc_length / 4) + 1\n",
    "    step_length = arc_length / n\n",
    "    step_angle = float(angle) / n\n",
    "    # Before starting making a slight left turn.\n",
    "    myTurtle.left(step_angle/2)\n",
    "    arcLine(n, step_length, step_angle)\n",
    "    myTurtle.right(step_angle/2)\n",
    "\n",
    "\n",
    "# main program loop\n",
    "# calls the main function which draws the boxes\n",
    "main()\n",
    "# calls the spiral function which draws the sprial\n",
    "spiral()\n"
   ]
  }
 ],
 "metadata": {
  "kernelspec": {
   "display_name": "Python 3 (ipykernel)",
   "language": "python",
   "name": "python3"
  },
  "language_info": {
   "codemirror_mode": {
    "name": "ipython",
    "version": 3
   },
   "file_extension": ".py",
   "mimetype": "text/x-python",
   "name": "python",
   "nbconvert_exporter": "python",
   "pygments_lexer": "ipython3",
   "version": "3.10.8"
  }
 },
 "nbformat": 4,
 "nbformat_minor": 5
}
