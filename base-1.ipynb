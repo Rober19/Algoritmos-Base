{
 "cells": [
  {
   "cell_type": "code",
   "execution_count": 17,
   "id": "41cf676d",
   "metadata": {},
   "outputs": [
    {
     "name": "stdout",
     "output_type": "stream",
     "text": [
      "2\n"
     ]
    }
   ],
   "source": [
    "# Like 'HELLO WORD' but with logic\n",
    "\n",
    "print(1+1)"
   ]
  },
  {
   "cell_type": "markdown",
   "id": "f319e10d",
   "metadata": {},
   "source": [
    "## Tipos de datos (Datatype)\n",
    "\n",
    "[Guia Rapida](https://www.w3schools.com/python/python_datatypes.asp)\n",
    "\n",
    "![img](./assets/img/img1.png)"
   ]
  },
  {
   "cell_type": "code",
   "execution_count": 6,
   "id": "1f63debd",
   "metadata": {},
   "outputs": [
    {
     "name": "stdout",
     "output_type": "stream",
     "text": [
      "<class 'int'>\n",
      "<class 'dict'>\n"
     ]
    }
   ],
   "source": [
    "# Integer\n",
    "x = 5\n",
    "print(type(x)) # int\n",
    "# Dictionary\n",
    "x = { \"Name\": \"Robert\" }\n",
    "print(type(x)) # dict"
   ]
  },
  {
   "cell_type": "markdown",
   "id": "20d99e54",
   "metadata": {},
   "source": [
    "# Ciclo FOR (FOR Loop)"
   ]
  },
  {
   "cell_type": "code",
   "execution_count": 18,
   "id": "22a36039",
   "metadata": {},
   "outputs": [
    {
     "name": "stdout",
     "output_type": "stream",
     "text": [
      "0\n",
      "1\n",
      "2\n",
      "3\n",
      "4\n",
      "5\n"
     ]
    }
   ],
   "source": [
    "for x in range(6):\n",
    "    print(x)"
   ]
  },
  {
   "cell_type": "code",
   "execution_count": 19,
   "id": "15dc6e77",
   "metadata": {},
   "outputs": [
    {
     "name": "stdout",
     "output_type": "stream",
     "text": [
      "0\n",
      "1\n",
      "2\n",
      "3\n",
      "4\n",
      "5\n",
      "Finally finished!\n"
     ]
    }
   ],
   "source": [
    "for x in range(6):\n",
    "  print(x)\n",
    "else:\n",
    "  print(\"Finally finished!\")"
   ]
  },
  {
   "cell_type": "markdown",
   "id": "01a900e8",
   "metadata": {},
   "source": [
    "# String Format\n",
    "\n",
    "`'' % ()` format : usefull but a little verbose\n",
    "`f''` format : usefull but a little problematic"
   ]
  },
  {
   "cell_type": "code",
   "execution_count": 139,
   "id": "16efb2e1",
   "metadata": {},
   "outputs": [
    {
     "name": "stdout",
     "output_type": "stream",
     "text": [
      "I am 21 years old\n",
      "I am 21 years old\n",
      "I'm 21 years old\n",
      "I'm 21 years old\n",
      "I'm 21 years old\n",
      "I'm 22 years old\n",
      "I am 22522.222222222223 years old\n",
      "I am 31 years old\n",
      "I am 21 years old and I'm an adult \n",
      "Test: 1  \n",
      "Test: maybe  \n"
     ]
    }
   ],
   "source": [
    "print('I am 21 years old') # Single Quote\n",
    "print(\"I am 21 years old\") # Double Quote\n",
    "print('I\\'m 21 years old') # Single Quote - and \\' to add the quote as a character\n",
    "print(\"I'm 21 years old\") # Double Quoute - it can read the single quote as a character without problem\n",
    "\n",
    "print('I\\'m %s years old' % (21)) \n",
    "print(\"I'm %s years old\" % (22))\n",
    "\n",
    "\n",
    "print(f'I am { 300+500*2000/45 } years old')\n",
    "print(f'I am %s %s %s' % (31, 'years', \"old\"))\n",
    "\n",
    "\n",
    "# With conditions\n",
    "age = 21\n",
    "print(f'I am {age} years old and I\\'m %s ' % (\"a minor\" if age < 18 else ('an adult' if age > 18 else 'rare' )))\n",
    "\n",
    "\n",
    "# (FalseOption, TrueOption)[condition]\n",
    "print(f'Test: {(1, 2)[False]}  ')\n",
    "print(f'Test: { ({True: \"yes\", False: \"no\", None: \"maybe\"}[None]) }  ')\n",
    "\n"
   ]
  },
  {
   "cell_type": "markdown",
   "id": "c6e14762",
   "metadata": {},
   "source": [
    "## Números Pares (Even Numbers)\n",
    "\n",
    "Aquellos que son divisibles entre `2`"
   ]
  },
  {
   "cell_type": "code",
   "execution_count": 20,
   "id": "90a40930",
   "metadata": {},
   "outputs": [
    {
     "name": "stdout",
     "output_type": "stream",
     "text": [
      "0\n",
      "2\n",
      "4\n",
      "6\n",
      "8\n",
      "10\n",
      "12\n",
      "14\n",
      "16\n",
      "18\n",
      "20\n",
      "22\n",
      "24\n",
      "26\n",
      "28\n",
      "30\n",
      "32\n",
      "34\n",
      "36\n",
      "38\n",
      "40\n",
      "42\n",
      "44\n",
      "46\n",
      "48\n",
      "50\n",
      "52\n",
      "54\n",
      "56\n",
      "58\n",
      "60\n",
      "62\n",
      "64\n",
      "66\n",
      "68\n",
      "70\n",
      "72\n",
      "74\n",
      "76\n",
      "78\n",
      "80\n",
      "82\n",
      "84\n",
      "86\n",
      "88\n",
      "90\n",
      "92\n",
      "94\n",
      "96\n",
      "98\n",
      "100\n",
      "finished!\n"
     ]
    }
   ],
   "source": [
    "for x in range(101):\n",
    "  if (x % 2 == 0):\n",
    "    print(x)\n",
    "else:\n",
    "  print(\"finished!\")"
   ]
  },
  {
   "cell_type": "markdown",
   "id": "a25c3c6d",
   "metadata": {},
   "source": [
    "## Números Impares (Odd Numbers)\n",
    "\n",
    "Aquellos que NO son divisibles entre `2`"
   ]
  },
  {
   "cell_type": "code",
   "execution_count": 21,
   "id": "b39c1035",
   "metadata": {},
   "outputs": [
    {
     "name": "stdout",
     "output_type": "stream",
     "text": [
      "1\n",
      "3\n",
      "5\n",
      "7\n",
      "9\n",
      "11\n",
      "13\n",
      "15\n",
      "17\n",
      "19\n",
      "21\n",
      "23\n",
      "25\n",
      "27\n",
      "29\n",
      "31\n",
      "33\n",
      "35\n",
      "37\n",
      "39\n",
      "41\n",
      "43\n",
      "45\n",
      "47\n",
      "49\n",
      "51\n",
      "53\n",
      "55\n",
      "57\n",
      "59\n",
      "61\n",
      "63\n",
      "65\n",
      "67\n",
      "69\n",
      "71\n",
      "73\n",
      "75\n",
      "77\n",
      "79\n",
      "81\n",
      "83\n",
      "85\n",
      "87\n",
      "89\n",
      "91\n",
      "93\n",
      "95\n",
      "97\n",
      "99\n",
      "finished!\n"
     ]
    }
   ],
   "source": [
    "for x in range(101):\n",
    "  if (x % 2 != 0):\n",
    "    print(x)\n",
    "else:\n",
    "  print(\"finished!\")"
   ]
  },
  {
   "cell_type": "markdown",
   "id": "07866e12",
   "metadata": {},
   "source": [
    "# Funciones (functions)"
   ]
  },
  {
   "cell_type": "code",
   "execution_count": 22,
   "id": "3c590f12",
   "metadata": {},
   "outputs": [
    {
     "name": "stdout",
     "output_type": "stream",
     "text": [
      "my parameter: Hi, I'm calling\n",
      "my parameter: 2\n"
     ]
    }
   ],
   "source": [
    "def myfunction(param):\n",
    "    print(f'my parameter: {param}')\n",
    "    \n",
    "myfunction('Hi, I\\'m calling')\n",
    "myfunction(1+1)"
   ]
  },
  {
   "cell_type": "markdown",
   "id": "a4231608",
   "metadata": {},
   "source": [
    "## Números Primos (Prime Number)\n",
    "\n",
    "Aquellos números X que son divisibles entre si mismos y `1` ( regla: `X > 1` )\n",
    "\n"
   ]
  },
  {
   "cell_type": "code",
   "execution_count": 109,
   "id": "e11c948a",
   "metadata": {},
   "outputs": [
    {
     "name": "stdout",
     "output_type": "stream",
     "text": [
      "NUMBERS LIST BETWEEN 1 and 30 SHOWING WHICH IS PRIME \n",
      "\n",
      " #1 : It's prime \n",
      " #2 : It's prime \n",
      " #3 : It's prime \n",
      " #4 : It isn't prime \n",
      " #5 : It's prime \n",
      " #6 : It isn't prime \n",
      " #7 : It's prime \n",
      " #8 : It isn't prime \n",
      " #9 : It isn't prime \n",
      " #10 : It isn't prime \n",
      " #11 : It's prime \n",
      " #12 : It isn't prime \n",
      " #13 : It's prime \n",
      " #14 : It isn't prime \n",
      " #15 : It isn't prime \n",
      " #16 : It isn't prime \n",
      " #17 : It's prime \n",
      " #18 : It isn't prime \n",
      " #19 : It's prime \n",
      " #20 : It isn't prime \n",
      " #21 : It isn't prime \n",
      " #22 : It isn't prime \n",
      " #23 : It's prime \n",
      " #24 : It isn't prime \n",
      " #25 : It isn't prime \n",
      " #26 : It isn't prime \n",
      " #27 : It isn't prime \n",
      " #28 : It isn't prime \n",
      " #29 : It's prime \n",
      " #30 : It isn't prime \n",
      "\n",
      "LIST WITH FIRST 10 PRIME NUMBERS \n",
      "\n",
      "#1: 1\n",
      "#2: 2\n",
      "#3: 3\n",
      "#4: 5\n",
      "#5: 7\n",
      "#6: 11\n",
      "#7: 13\n",
      "#8: 17\n",
      "#9: 19\n",
      "#10: 23\n"
     ]
    }
   ],
   "source": [
    "\n",
    "\n",
    "def is_prime(number):\n",
    "    # this will be the counter for each time `number` was divided with remainder/mod = 0\n",
    "    mod_zero_counter = 0\n",
    "    #\n",
    "    if (number == 1):\n",
    "        return True\n",
    "    #\n",
    "    for x in range(1, number + 1):        \n",
    "        if ( number % x == 0 ):\n",
    "            mod_zero_counter += 1  \n",
    "    return mod_zero_counter == 2\n",
    "\n",
    "\n",
    "    \n",
    "'''\n",
    " Números primos entre 1 y X:\n",
    "'''\n",
    "\n",
    "\n",
    "\n",
    "# which number is number is prime between 1 and 30\n",
    "limit = 30\n",
    "range_numbers = range(1, limit + 1)\n",
    "\n",
    "# title\n",
    "print(f'NUMBERS LIST BETWEEN 1 and {limit} SHOWING WHICH IS PRIME \\n')\n",
    "\n",
    "for index_1 in range_numbers:\n",
    "    print(f' #{index_1} : %s prime ' % (\"It\\'s\" if is_prime(index_1) else \"It isn't\"))\n",
    "\n",
    "\n",
    "    \n",
    "'''\n",
    " X  Cantidad de numeros primos:\n",
    "'''\n",
    "\n",
    "\n",
    "# size of prime numbers list\n",
    "limit_list = 10\n",
    "\n",
    "# title\n",
    "print(f'\\nLIST WITH FIRST {limit_list} PRIME NUMBERS \\n')\n",
    "\n",
    "i_counter = 1\n",
    "prime_counter = 0;\n",
    "while prime_counter < limit_list:\n",
    "    if (is_prime(i_counter)):\n",
    "        print(f'#{prime_counter+1}: {i_counter}')\n",
    "        prime_counter += 1  \n",
    "    i_counter += 1\n",
    "\n",
    "#for index in ():"
   ]
  },
  {
   "cell_type": "markdown",
   "id": "87bad3b6",
   "metadata": {},
   "source": [
    "# POO (OOP)\n",
    "\n",
    "## Clases (Class) "
   ]
  },
  {
   "cell_type": "code",
   "execution_count": 10,
   "id": "7bf7ff83",
   "metadata": {},
   "outputs": [
    {
     "name": "stdout",
     "output_type": "stream",
     "text": [
      " name: fido \n",
      " kind: canine\n"
     ]
    }
   ],
   "source": [
    "class Dog:\n",
    "\n",
    "    kind = 'canine'         # class variable shared by all instances\n",
    "    tricks = []             # mistaken use of a class variable\n",
    "\n",
    "    def __init__(self, name):\n",
    "        self.name = name    # instance variable unique to each instance\n",
    "        self.tricks = []    # creates a new empty list for each dog\n",
    "\n",
    "    def add_trick(self, trick):\n",
    "        self.tricks.append(trick)\n",
    "        \n",
    "myDog1 = Dog('fido')\n",
    "\n",
    "print(f' name: {myDog1.name} \\n kind: {myDog1.kind}')"
   ]
  },
  {
   "cell_type": "code",
   "execution_count": null,
   "id": "fcbd19f1",
   "metadata": {},
   "outputs": [],
   "source": []
  }
 ],
 "metadata": {
  "kernelspec": {
   "display_name": "Python 3 (ipykernel)",
   "language": "python",
   "name": "python3"
  },
  "language_info": {
   "codemirror_mode": {
    "name": "ipython",
    "version": 3
   },
   "file_extension": ".py",
   "mimetype": "text/x-python",
   "name": "python",
   "nbconvert_exporter": "python",
   "pygments_lexer": "ipython3",
   "version": "3.9.0"
  }
 },
 "nbformat": 4,
 "nbformat_minor": 5
}
